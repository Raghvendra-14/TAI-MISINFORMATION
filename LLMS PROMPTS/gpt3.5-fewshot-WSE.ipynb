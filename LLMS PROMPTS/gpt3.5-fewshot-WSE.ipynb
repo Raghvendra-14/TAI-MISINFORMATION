{
 "cells": [
  {
   "cell_type": "code",
   "execution_count": null,
   "metadata": {
    "colab": {
     "base_uri": "https://localhost:8080/"
    },
    "id": "HunuDLLxfaZY",
    "outputId": "c1423fa2-00b7-4c6e-9a2c-d7035b95d64e"
   },
   "outputs": [],
   "source": [
    "pip install openai"
   ]
  },
  {
   "cell_type": "code",
   "execution_count": null,
   "metadata": {
    "id": "LcZUzAY6NZFJ"
   },
   "outputs": [],
   "source": [
    "import openai\n",
    "import pandas as pd\n",
    "import os\n",
    "import pickle\n",
    "import csv\n",
    "import numpy as np\n",
    "import time"
   ]
  },
  {
   "cell_type": "code",
   "execution_count": null,
   "metadata": {
    "colab": {
     "base_uri": "https://localhost:8080/"
    },
    "id": "wKxlSGqJB8I6",
    "outputId": "8b463f3d-8d2b-4e61-a262-ad944354c49c"
   },
   "outputs": [],
   "source": [
    "from google.colab import drive\n",
    "drive.mount('/content/drive')"
   ]
  },
  {
   "cell_type": "code",
   "execution_count": null,
   "metadata": {
    "id": "ZbC1DxmDCeTj"
   },
   "outputs": [],
   "source": [
    "file_path='/content/drive/MyDrive/politifact_sentiment_emotion.csv'\n",
    "df=pd.read_csv(file_path)"
   ]
  },
  {
   "cell_type": "code",
   "execution_count": null,
   "metadata": {
    "id": "wsCiDgFG3D6b"
   },
   "outputs": [],
   "source": [
    "openai.api_key = \"#################\""
   ]
  },
  {
   "cell_type": "code",
   "execution_count": null,
   "metadata": {
    "colab": {
     "base_uri": "https://localhost:8080/"
    },
    "id": "gC-KThsPEUmv",
    "outputId": "d5b01806-9fe1-4a16-c96f-6ff7ba5ba443"
   },
   "outputs": [],
   "source": [
    "len(df.values.tolist())"
   ]
  },
  {
   "cell_type": "code",
   "execution_count": null,
   "metadata": {
    "id": "Bc_9mmR9J9sB"
   },
   "outputs": [],
   "source": [
    "end_sequence='###'"
   ]
  },
  {
   "cell_type": "code",
   "execution_count": null,
   "metadata": {
    "id": "IYCosnRBD5PW"
   },
   "outputs": [],
   "source": [
    "predictions=[]"
   ]
  },
  {
   "cell_type": "code",
   "execution_count": null,
   "metadata": {
    "id": "8Zn_GVhn0WwR"
   },
   "outputs": [],
   "source": [
    "message_fewshot='''\n",
    "            Tweet:brad pitt going back school impress professor girlfriend neri oxman\n",
    "            Sentiment:positive\n",
    "            Emotion:neutral\n",
    "            Label:rumor\n",
    "\n",
    "            Tweet:drew barrymore secretly sleepovers exhusband kopelman\n",
    "            Sentiment:neutral\n",
    "            Emotion:neutral\n",
    "            Label:rumor\n",
    "\n",
    "            Tweet:angelina jolie brad pitts divorce master class pr spins\n",
    "            Sentiment:neutral\n",
    "            Emotion:neutral\n",
    "            Label:rumor\n",
    "\n",
    "            Tweet:johnny depp disney bosses couldnt stand jack sparrow thought character gay\n",
    "            Sentiment:neutral\n",
    "            Emotion:sadness\n",
    "            Label:rumor\n",
    "\n",
    "            Tweet:jennifer aniston reveals struggles dyslexia anger shrugs oscar snub\n",
    "            Sentiment:negative\n",
    "            Emotion:anger\n",
    "            Label:rumor\n",
    "\n",
    "            Tweet:angelina jolie gets aggressive major makeover\n",
    "            Sentiment:negative\n",
    "            Emotion:anger\n",
    "            Label:rumor\n",
    "\n",
    "            Tweet:taylor swift jealous harry styles dunkirk\n",
    "            Sentiment:negative\n",
    "            Emotion:joy\n",
    "            Label:rumor\n",
    "\n",
    "            Tweet:secret eyes\n",
    "            Sentiment:neutral\n",
    "            Emotion:neutral\n",
    "            Label:rumor\n",
    "\n",
    "            Tweet:kim kardashian west welcomes third child\n",
    "            Sentiment:positive\n",
    "            Emotion:joy\n",
    "            Label:rumor\n",
    "\n",
    "            Tweet:wwe star naomi keeps real comes showing marriage total divas\n",
    "            Sentiment:neutral\n",
    "            Emotion:neutral\n",
    "            Label:non-rumor\n",
    "\n",
    "            Tweet:blake lively trades blonde hair cropped black filming upcoming thriller\n",
    "            Sentiment:positive\n",
    "            Emotion:joy\n",
    "            Label:non-rumor\n",
    "\n",
    "            Tweet:real talk jessica alba bedtime might challenging part 3 kids\n",
    "            Sentiment:positive\n",
    "            Emotion:neutral\n",
    "            Label:non-rumor\n",
    "\n",
    "            Tweet:us jacks death even haunting fans expected\n",
    "            Sentiment:negative\n",
    "            Emotion:fear\n",
    "            Label:non-rumor\n",
    "\n",
    "            Tweet:kevin smith feeling good back home recovering massive heart attack\n",
    "            Sentiment:positive\n",
    "            Emotion:joy\n",
    "            Label:non-rumor\n",
    "\n",
    "            Tweet:sixyearold cancer patient jokes prince william old marry visits hospital\n",
    "            Sentiment:negative\n",
    "            Emotion:joy\n",
    "            Label:non-rumor\n",
    "\n",
    "            Tweet:vogue sorry gigi hadid zayn malik gender fluid claim\n",
    "            Sentiment:negative\n",
    "            Emotion:sadness\n",
    "            Label:non-rumor\n",
    "\n",
    "            Tweet:8 kate pippa middletoninspired mothers day gifts\n",
    "            Sentiment:neutral\n",
    "            Emotion:joy\n",
    "            Label:non-rumor\n",
    "\n",
    "            Tweet:big bang theory season 11 finale recap sheldon amys wedding gets big shocker\n",
    "            Sentiment:negative\n",
    "            Emotion:surprise\n",
    "            Label:non-rumor\n",
    "\n",
    "            Tweet:kuwtk reveals scott disick angry kourtneys new beau\n",
    "            Sentiment:negative\n",
    "            Emotion:anger\n",
    "            Label:non-rumor\n",
    "\n",
    "            Tweet:mama junes daughter pumpkin gets married las vegas\n",
    "            Sentiment:positive\n",
    "            Emotion:anger\n",
    "            Label:non-rumor\n",
    "\n",
    "            '''"
   ]
  },
  {
   "cell_type": "code",
   "execution_count": null,
   "metadata": {
    "id": "XYTU0K2S1Dcm"
   },
   "outputs": [],
   "source": [
    "rumor=0\n",
    "nonrumor=0"
   ]
  },
  {
   "cell_type": "code",
   "execution_count": null,
   "metadata": {
    "id": "G6uP8yz01G8t"
   },
   "outputs": [],
   "source": [
    "prompt = \"\"\"\n",
    "    You are an excellent data annotator.\n",
    "    You know every incident and have common sense like humans.\n",
    "    Your aim is to annotate the given text data to 2 labels namely rumor & non-rumor.\n",
    "    Output should be strictly the label for the given data which is  either rumor or non-rumor.\n",
    "    Here is the given text data: \\n{tweet}.\n",
    "    The label for this text is:\n",
    "    \"\"\""
   ]
  },
  {
   "cell_type": "code",
   "execution_count": null,
   "metadata": {
    "colab": {
     "base_uri": "https://localhost:8080/",
     "height": 206
    },
    "id": "QvXn96vNEcIM",
    "outputId": "dbd66cd0-fa3f-4ed2-89b2-949572340553"
   },
   "outputs": [],
   "source": [
    "df.head()"
   ]
  },
  {
   "cell_type": "code",
   "execution_count": null,
   "metadata": {
    "colab": {
     "base_uri": "https://localhost:8080/",
     "height": 206
    },
    "id": "JjC0s65eiawq",
    "outputId": "3c3fdcb5-9b60-483b-a0f5-c033d3f2a51f"
   },
   "outputs": [],
   "source": [
    "df.tail()"
   ]
  },
  {
   "cell_type": "code",
   "execution_count": null,
   "metadata": {
    "colab": {
     "base_uri": "https://localhost:8080/",
     "height": 1000
    },
    "id": "gUCfGicz6ekD",
    "outputId": "8ca1aedf-2f9c-46fa-b55b-441006c16868"
   },
   "outputs": [],
   "source": [
    "\n",
    "\n",
    "messages = [{\"role\": \"system\", \"content\": prompt}]\n",
    "\n",
    "for i in range(0, 432, 1):\n",
    "    newmessage = '''\n",
    "Tweet: ''' + df['tweet'][i] + '''\n",
    "Sentiment: '''+df['sentiment'][i]+'''\n",
    "Emotion: '''+df['max_emotion'][i]+'''\n",
    "Label: '''\n",
    "\n",
    "    message = message_fewshot+newmessage\n",
    "    if message:\n",
    "        messages.append({\"role\": \"user\", \"content\": message})\n",
    "        chat = openai.ChatCompletion.create(\n",
    "            model=\"gpt-3.5-turbo\", messages=messages\n",
    "        )\n",
    "    reply = chat.choices[0].message.content\n",
    "    messages.pop()\n",
    "    if reply == 'rumor':\n",
    "        rumor += 1\n",
    "    else:\n",
    "        nonrumor += 1\n",
    "\n",
    "    print(f\"{i}: {reply}\")\n",
    "\n",
    "    # Check if 100 tweets have been processed and introduce a 5-minute sleep\n",
    "    if i % 100 == 0:\n",
    "        print(\"Sleeping for 5 minutes...\")\n",
    "        time.sleep(300)  # 300 seconds = 5 minutes\n",
    "\n",
    "print(\"rumor: \", rumor, \"nonrumor: \", nonrumor)"
   ]
  },
  {
   "cell_type": "code",
   "execution_count": null,
   "metadata": {
    "id": "GC8eXUJPPHpc"
   },
   "outputs": [],
   "source": []
  }
 ],
 "metadata": {
  "accelerator": "GPU",
  "colab": {
   "gpuType": "T4",
   "provenance": []
  },
  "kernelspec": {
   "display_name": "Python 3 (ipykernel)",
   "language": "python",
   "name": "python3"
  },
  "language_info": {
   "codemirror_mode": {
    "name": "ipython",
    "version": 3
   },
   "file_extension": ".py",
   "mimetype": "text/x-python",
   "name": "python",
   "nbconvert_exporter": "python",
   "pygments_lexer": "ipython3",
   "version": "3.10.12"
  }
 },
 "nbformat": 4,
 "nbformat_minor": 4
}
