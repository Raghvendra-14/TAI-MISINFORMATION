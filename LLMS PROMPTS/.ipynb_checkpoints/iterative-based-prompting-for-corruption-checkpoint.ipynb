{
 "cells": [
  {
   "cell_type": "code",
   "execution_count": null,
   "metadata": {
    "id": "EZQ52sKXOlHA"
   },
   "outputs": [],
   "source": [
    "pip install openai==0.28"
   ]
  },
  {
   "cell_type": "code",
   "execution_count": null,
   "metadata": {
    "id": "lO2H92Lsqqkc"
   },
   "outputs": [],
   "source": [
    "import openai\n",
    "import pandas as pd\n",
    "\n",
    "def generate_chain_of_thought(initial_input, common_prompt, num_responses):\n",
    "    api_key = \"your key\"\n",
    "    openai.api_key = api_key\n",
    "\n",
    "\n",
    "    conversation_history = [initial_input + \" \" + common_prompt]\n",
    "    generated_responses = []\n",
    "\n",
    "    # Iterate for the specified number of responses\n",
    "    for _ in range(num_responses):\n",
    "        # Construct the prompt with the current conversation history\n",
    "        prompt = ' '.join(conversation_history)\n",
    "\n",
    "\n",
    "        response = openai.Completion.create(\n",
    "            engine=\"gpt-3.5-turbo-instruct\",\n",
    "            prompt=prompt,\n",
    "            max_tokens=1000,\n",
    "            temperature=0.2,\n",
    "            n=1\n",
    "        )\n",
    "\n",
    "\n",
    "        generated_text = response.choices[0].text.strip()\n",
    "        generated_responses.append(generated_text)\n",
    "\n",
    "        conversation_history = [generated_text]\n",
    "\n",
    "    return generated_responses\n",
    "\n",
    "data = pd.read_csv('SNOPES_500_FAKE.csv')\n",
    "\n",
    "\n",
    "articles = data['tweet'].tolist()\n",
    "\n",
    "common_prompt = \"we are doing a research experiment in which you will be provided with a genuine news article you have to fake the information in the news article in  an iterative manner. The news article is as follows:\"\n",
    "\n",
    "\n",
    "new_dataset = []\n",
    "\n",
    "\n",
    "for article in articles:\n",
    "\n",
    "    generated_responses = generate_chain_of_thought(article, common_prompt, num_responses=3)\n",
    "\n",
    "    generated_responses = [response.replace('\\n', ' ') for response in generated_responses]\n",
    "\n",
    "\n",
    "    new_dataset.append({\"original\": article, \"corrupted\": generated_responses})\n",
    "\n",
    "\n",
    "new_dataset_df = pd.DataFrame(new_dataset)\n",
    "\n",
    "\n",
    "new_dataset_df.to_csv('SNOPES_500_FAKE_CORRUPTED_COT.csv', index=False)\n"
   ]
  }
 ],
 "metadata": {
  "colab": {
   "provenance": []
  },
  "kernelspec": {
   "display_name": "Python 3 (ipykernel)",
   "language": "python",
   "name": "python3"
  },
  "language_info": {
   "codemirror_mode": {
    "name": "ipython",
    "version": 3
   },
   "file_extension": ".py",
   "mimetype": "text/x-python",
   "name": "python",
   "nbconvert_exporter": "python",
   "pygments_lexer": "ipython3",
   "version": "3.10.12"
  }
 },
 "nbformat": 4,
 "nbformat_minor": 4
}
