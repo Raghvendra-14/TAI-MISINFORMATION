{
 "cells": [
  {
   "cell_type": "code",
   "execution_count": null,
   "metadata": {
    "colab": {
     "base_uri": "https://localhost:8080/"
    },
    "id": "HunuDLLxfaZY",
    "outputId": "13d9f906-ca45-41f6-dfa3-2ef1443118d7"
   },
   "outputs": [],
   "source": [
    "pip install openai"
   ]
  },
  {
   "cell_type": "code",
   "execution_count": null,
   "metadata": {
    "id": "LcZUzAY6NZFJ"
   },
   "outputs": [],
   "source": [
    "import openai\n",
    "import pandas as pd\n",
    "import os\n",
    "import pickle\n",
    "import csv\n",
    "import numpy as np\n",
    "import time"
   ]
  },
  {
   "cell_type": "code",
   "execution_count": null,
   "metadata": {
    "colab": {
     "base_uri": "https://localhost:8080/"
    },
    "id": "wKxlSGqJB8I6",
    "outputId": "123e76f0-892c-4d6e-a336-6bba32b2a9c3"
   },
   "outputs": [],
   "source": [
    "from google.colab import drive\n",
    "drive.mount('/content/drive')"
   ]
  },
  {
   "cell_type": "code",
   "execution_count": null,
   "metadata": {
    "id": "ZbC1DxmDCeTj"
   },
   "outputs": [],
   "source": [
    "file_path='/content/drive/MyDrive/INDIAN_sentiment_emotion.csv'\n",
    "df=pd.read_csv(file_path)"
   ]
  },
  {
   "cell_type": "code",
   "execution_count": null,
   "metadata": {
    "id": "wsCiDgFG3D6b"
   },
   "outputs": [],
   "source": [
    "openai.api_key = \"###########\""
   ]
  },
  {
   "cell_type": "code",
   "execution_count": null,
   "metadata": {
    "colab": {
     "base_uri": "https://localhost:8080/"
    },
    "id": "gC-KThsPEUmv",
    "outputId": "ddd1a36d-f45f-4c68-d539-7dcd8269ef4d"
   },
   "outputs": [],
   "source": [
    "len(df.values.tolist())"
   ]
  },
  {
   "cell_type": "code",
   "execution_count": null,
   "metadata": {
    "id": "Bc_9mmR9J9sB"
   },
   "outputs": [],
   "source": [
    "end_sequence='###'"
   ]
  },
  {
   "cell_type": "code",
   "execution_count": null,
   "metadata": {
    "id": "XYTU0K2S1Dcm"
   },
   "outputs": [],
   "source": [
    "rumor=0\n",
    "nonrumor=0"
   ]
  },
  {
   "cell_type": "code",
   "execution_count": null,
   "metadata": {
    "id": "G6uP8yz01G8t"
   },
   "outputs": [],
   "source": [
    "prompt = \"\"\"\n",
    "          You are an excellent data annotator.\n",
    "    You know every incident and have common sense like humans.\n",
    "    Your aim is to annotate the given text data to 2 labels namely rumor & non-rumor.\n",
    "    Output should be strictly the label for the given data which is  either rumor or non-rumor.\n",
    "    Here is the given text data: \\n{tweet}.\n",
    "    The label for this text is:\n",
    "             \"\"\""
   ]
  },
  {
   "cell_type": "code",
   "execution_count": null,
   "metadata": {
    "colab": {
     "base_uri": "https://localhost:8080/",
     "height": 206
    },
    "id": "QvXn96vNEcIM",
    "outputId": "31bfd683-1548-4b31-9da7-7c4f8b70ba1e"
   },
   "outputs": [],
   "source": [
    "df.head()"
   ]
  },
  {
   "cell_type": "code",
   "execution_count": null,
   "metadata": {
    "colab": {
     "base_uri": "https://localhost:8080/",
     "height": 206
    },
    "id": "JjC0s65eiawq",
    "outputId": "0e075515-d9ff-492e-d41a-988734e19fb3"
   },
   "outputs": [],
   "source": [
    "df.tail()"
   ]
  },
  {
   "cell_type": "code",
   "execution_count": null,
   "metadata": {
    "colab": {
     "base_uri": "https://localhost:8080/"
    },
    "id": "gUCfGicz6ekD",
    "outputId": "9390e50a-da91-4cbe-bed0-ba9d8d7a48ee"
   },
   "outputs": [],
   "source": [
    "messages = [{\"role\": \"system\", \"content\": prompt}]\n",
    "\n",
    "for i in range(0, 500, 1):\n",
    "    newmessage = '''\n",
    "Tweet: ''' + df['tweet'][i] + '''\n",
    "Sentiment: '''+df['sentiment'][i]+'''\n",
    "Emotion: '''+df['max_emotion'][i]+'''\n",
    "Label: '''\n",
    "\n",
    "    message = newmessage\n",
    "    if message:\n",
    "        messages.append({\"role\": \"user\", \"content\": message})\n",
    "        chat = openai.ChatCompletion.create(\n",
    "            model=\"gpt-3.5-turbo\", messages=messages\n",
    "        )\n",
    "    reply = chat.choices[0].message.content\n",
    "    messages.pop()\n",
    "    if reply == 'rumor':\n",
    "        rumor += 1\n",
    "    else:\n",
    "        nonrumor += 1\n",
    "\n",
    "    print(f\"{i}: {reply}\")\n",
    "\n",
    "    # Check if 100 tweets have been processed and introduce a 5-minute sleep\n",
    "    if i % 100 == 0:\n",
    "        print(\"Sleeping for 5 minutes...\")\n",
    "        time.sleep(300)  # 300 seconds = 5 minutes\n",
    "\n",
    "print(\"rumor: \", rumor, \"nonrumor: \", nonrumor)"
   ]
  },
  {
   "cell_type": "code",
   "execution_count": null,
   "metadata": {
    "colab": {
     "base_uri": "https://localhost:8080/"
    },
    "id": "GC8eXUJPPHpc",
    "outputId": "ca72b754-e39c-420c-e06f-c567c4347cdc"
   },
   "outputs": [],
   "source": [
    "rumor"
   ]
  },
  {
   "cell_type": "code",
   "execution_count": null,
   "metadata": {
    "id": "vjw5FfRFaraM"
   },
   "outputs": [],
   "source": []
  }
 ],
 "metadata": {
  "accelerator": "GPU",
  "colab": {
   "gpuType": "T4",
   "provenance": []
  },
  "kernelspec": {
   "display_name": "Python 3 (ipykernel)",
   "language": "python",
   "name": "python3"
  },
  "language_info": {
   "codemirror_mode": {
    "name": "ipython",
    "version": 3
   },
   "file_extension": ".py",
   "mimetype": "text/x-python",
   "name": "python",
   "nbconvert_exporter": "python",
   "pygments_lexer": "ipython3",
   "version": "3.10.12"
  }
 },
 "nbformat": 4,
 "nbformat_minor": 4
}
