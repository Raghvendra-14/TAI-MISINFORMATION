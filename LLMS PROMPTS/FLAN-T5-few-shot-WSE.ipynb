{
 "cells": [
  {
   "cell_type": "code",
   "execution_count": null,
   "id": "4a0c2be4",
   "metadata": {},
   "outputs": [],
   "source": [
    "pip install transformers"
   ]
  },
  {
   "cell_type": "code",
   "execution_count": null,
   "id": "cc7f87c7",
   "metadata": {},
   "outputs": [],
   "source": [
    "from transformers import AutoModelForCausalLM, AutoTokenizer\n",
    "import pandas as pd\n",
    "from transformers import pipeline\n",
    "import torch\n",
    "# device = torch.device(\"cpu\")\n",
    "from transformers import GPTJForCausalLM, AutoTokenizer\n",
    "from transformers import AutoModelForCausalLM, AutoTokenizer\n",
    "from sklearn.metrics import f1_score\n",
    "from sklearn.metrics import accuracy_score\n",
    "from transformers import AutoTokenizer,GPTJForCausalLM\n",
    "from transformers import AutoModelForSeq2SeqLM, AutoTokenizer\n",
    "from transformers import T5Tokenizer, T5ForConditionalGeneration\n",
    "\n",
    "from transformers import GPTNeoForCausalLM, GPT2Tokenizer"
   ]
  },
  {
   "cell_type": "code",
   "execution_count": null,
   "id": "a808aa54",
   "metadata": {},
   "outputs": [],
   "source": [
    "device = torch.device(\"cuda\" if torch.cuda.is_available() else \"cpu\")"
   ]
  },
  {
   "cell_type": "code",
   "execution_count": null,
   "id": "1f56c467",
   "metadata": {},
   "outputs": [],
   "source": [
    "model = AutoModelForSeq2SeqLM.from_pretrained(\"google/flan-t5-large\")\n",
    "model = model.to(device)\n",
    "tokenizer = AutoTokenizer.from_pretrained(\"google/flan-t5-large\")"
   ]
  },
  {
   "cell_type": "code",
   "execution_count": null,
   "id": "79032371",
   "metadata": {},
   "outputs": [],
   "source": [
    "df=pd.read_csv('PHEME_sentiment_vader.csv')"
   ]
  },
  {
   "cell_type": "code",
   "execution_count": null,
   "id": "4746d357",
   "metadata": {},
   "outputs": [],
   "source": [
    "df.head()"
   ]
  },
  {
   "cell_type": "code",
   "execution_count": null,
   "id": "634f60fc",
   "metadata": {},
   "outputs": [],
   "source": [
    "df.drop(columns=['index','max_emotion','sentiment'],inplace=True)"
   ]
  },
  {
   "cell_type": "code",
   "execution_count": null,
   "id": "cdd7f86f",
   "metadata": {},
   "outputs": [],
   "source": [
    "df.head()"
   ]
  },
  {
   "cell_type": "code",
   "execution_count": null,
   "id": "9a80a203",
   "metadata": {},
   "outputs": [],
   "source": [
    "predictions = []\n",
    "for index, row in df.iterrows():\n",
    "    print(index)\n",
    "    tweet = row['tweet']\n",
    "    prompt = \"\"\"\n",
    "    You are given tweets regarding news events,you need to classify the tweets whether the given tweet is rumour or non-rumour.\n",
    "    Tweet:charlie hebdo gunmen reportedly heard shouting prophet avenged + \"emotion for this tweet is\" + anger +\"and sentiment for this tweet is\"+ neutral\n",
    "    Answer=rumour\n",
    "    ###\n",
    "    Tweet:11 confirmed dead francois hollande visit scene attack latest paris + \"emotion for this tweet is\" + sadness +\"and sentiment for this tweet is\"+ negative\n",
    "    Answer=rumour\n",
    "    ###\n",
    "    Tweet:gunmen reportedly asked victims name shooting charliehebdo live updates + \"emotion for this tweet is\" + neutral +\"and sentiment for this tweet is\"+ negative\n",
    "    Answer:rumour\n",
    "    ###\n",
    "    Tweet:awful 11 shot dead assault paris magazine charliehebdo + \"emotion for this tweet is\" + fear +\"and sentiment for this tweet is\"+ negative\n",
    "    Answer:rumour\n",
    "    ###\n",
    "    Tweet:charlie hebdo journalist wandrille lanos tells france 2 men kalashnikovs entered office calls scene carnage + \"emotion for this tweet is\" + neutral +\"and sentiment for this tweet is\"+ neutral\n",
    "    Answer:rumour\n",
    "    ###\n",
    "    Tweet:suspect paris kosher supermarket siege killed two people holding hostages + \"emotion for this tweet is\" + anger +\"and sentiment for this tweet is\"+ negative\n",
    "    Answer:rumour\n",
    "    ###\n",
    "    Tweet:killed charlie hebdo suspects came firing security forces source afp + \"emotion for this tweet is\" + anger +\"and sentiment for this tweet is\"+ negative\n",
    "    Answer:rumour\n",
    "    ###\n",
    "    Tweet:michael brown 17 yr old boy shot 10x amp killed police ferguson today media reports police shoot man blackboysonly + \"emotion for this tweet is\" + anger +\"and sentiment for this tweet is\"+ negative\n",
    "    Answer:rumour\n",
    "    ###\n",
    "    Tweet:st louis unarmed teenager mikebrown shot ten times ferguson police officer accusation shoplifting + \"emotion for this tweet is\" + anger +\"and sentiment for this tweet is\"+ negative\n",
    "    Answer:non-rumour\n",
    "    ###\n",
    "    Tweet:police narrative ferguson unarmed teen suspected unarmed robbery shot death weve still got problem chief + \"emotion for this tweet is\" + anger +\"and sentiment for this tweet is\"+ negative\n",
    "    Answer:rumour\n",
    "    ###\n",
    "    Tweet: heres police report somehow ferguson cops valued box swishers nearly 50 time stop smokin guess + \"emotion for this tweet is\" + surprise +\"and sentiment for this tweet is\"+ positive\n",
    "    Answer:rumour\n",
    "    ###\n",
    "    Tweet:breaking lawyer says browns friend confirms take cigarillos via msnbc ferguson + \"emotion for this tweet is\" + neutral +\"and sentiment for this tweet is\"+ positive\n",
    "    Answer:rumour\n",
    "    ###\n",
    "    Tweet:ferguson pd beat amp charged innocent man property damage bleeding officers clothes youranonnews + \"emotion for this tweet is\" + sadness +\"and sentiment for this tweet is\"+ negative\n",
    "    Answer:rumour\n",
    "    ###\n",
    "    Tweet:justify shooting unarmed teenager saying might committing misdemeanor fucking asshole ferguson + \"emotion for this tweet is\" + anger +\"and sentiment for this tweet is\"+ positive\n",
    "    ###\n",
    "    Tweet:germanwings plane crash airbus a320 crashes french alps 148 board latest updates + \"emotion for this tweet is\" + sadness +\"and sentiment for this tweet is\"+ negative\n",
    "    Answer:rumour\n",
    "    ###\n",
    "    Tweet:reports moving body amidst germanwings wreckage a320 + \"emotion for this tweet is\" + surprise +\"and sentiment for this tweet is\"+ neutral\n",
    "    Answer:rumour\n",
    "    ###\n",
    "    Tweet:ctvnews reporting second shooting behind peace tower parliament hill ottnews shooter loose + \"emotion for this tweet is\" + fear +\"and sentiment for this tweet is\"+ negative\n",
    "    Answer:rumour\n",
    "    ###\n",
    "    Tweet:saw long gun heard one shot eye witness ottawashooting canadian parliament + \"emotion for this tweet is\" + surprise +\"and sentiment for this tweet is\"+ negative\n",
    "    Answer:rumour\n",
    "    ###\n",
    "    Tweet:ottawa shootings suspect identified michael zehafbibeau 32 unclear shooters + \"emotion for this tweet is\" + neutral +\"and sentiment for this tweet is\"+ negative\n",
    "    Answer:rumour\n",
    "    ###\n",
    "    Tweet:sydney opera house evacuated siege continuing local media reports 13 hostages+ \"emotion for this tweet is\" + fear +\"and sentiment for this tweet is\"+ neutral\n",
    "    prediction:rumour\n",
    "    ###\n",
    "    Tweet:\"\"\"+tweet+\"\"\" Return your answer in rumour and non rumour only.\n",
    "    Answer:\"\"\"\n",
    "    inputs = tokenizer(prompt, return_tensors=\"pt\")\n",
    "    inputs = {k: v.to(device) for k, v in inputs.items()}\n",
    "    outputs = model.generate(**inputs, max_length=900)\n",
    "    response = tokenizer.batch_decode(outputs, skip_special_tokens=True)[0]\n",
    "    answer = response.split(\":\")[-1].strip()\n",
    "    #predictions.append(answer)\n",
    "    print(answer)\n",
    "    if \"non-rumour\" in response.lower():\n",
    "        prediction = \"non-rumour\"\n",
    "    else:\n",
    "        prediction = \"rumour\"\n",
    "    predictions.append(prediction)"
   ]
  },
  {
   "cell_type": "code",
   "execution_count": null,
   "id": "94001872",
   "metadata": {},
   "outputs": [],
   "source": [
    "df_predictions=pd.DataFrame(predictions,columns=['Prediction'])"
   ]
  },
  {
   "cell_type": "code",
   "execution_count": null,
   "id": "0c6b6934",
   "metadata": {},
   "outputs": [],
   "source": [
    "df_predictions.head()"
   ]
  },
  {
   "cell_type": "code",
   "execution_count": null,
   "id": "1a462831",
   "metadata": {},
   "outputs": [],
   "source": [
    "df_predictions.to_csv('Flan_T5_prediction_pheme_few_shot.csv')"
   ]
  },
  {
   "cell_type": "code",
   "execution_count": null,
   "id": "ac8464e4",
   "metadata": {},
   "outputs": [],
   "source": [
    "count=df_predictions[df_predictions['Prediction']=='rumour'].shape[0]"
   ]
  },
  {
   "cell_type": "code",
   "execution_count": null,
   "id": "ab2cc2a0",
   "metadata": {},
   "outputs": [],
   "source": [
    "count"
   ]
  },
  {
   "cell_type": "code",
   "execution_count": null,
   "id": "e9c21b8d",
   "metadata": {},
   "outputs": [],
   "source": []
  }
 ],
 "metadata": {
  "kernelspec": {
   "display_name": "Python 3 (ipykernel)",
   "language": "python",
   "name": "python3"
  },
  "language_info": {
   "codemirror_mode": {
    "name": "ipython",
    "version": 3
   },
   "file_extension": ".py",
   "mimetype": "text/x-python",
   "name": "python",
   "nbconvert_exporter": "python",
   "pygments_lexer": "ipython3",
   "version": "3.10.12"
  }
 },
 "nbformat": 4,
 "nbformat_minor": 5
}
