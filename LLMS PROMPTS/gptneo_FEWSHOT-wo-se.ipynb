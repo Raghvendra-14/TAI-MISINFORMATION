{
 "cells": [
  {
   "cell_type": "code",
   "execution_count": null,
   "metadata": {
    "colab": {
     "base_uri": "https://localhost:8080/"
    },
    "id": "BsE62QQEya8E",
    "outputId": "f3645445-ca65-45cc-ad0f-8fc0fac28c2b"
   },
   "outputs": [],
   "source": [
    "pip install transformers"
   ]
  },
  {
   "cell_type": "code",
   "execution_count": null,
   "metadata": {
    "id": "iNfQh92jSuev"
   },
   "outputs": [],
   "source": [
    "import pandas as pd\n",
    "from transformers import pipeline\n",
    "import torch\n",
    "# device = torch.device(\"cpu\")\n",
    "from transformers import GPTJForCausalLM, AutoTokenizer\n",
    "from transformers import AutoModelForCausalLM, AutoTokenizer\n",
    "from sklearn.metrics import f1_score\n",
    "from sklearn.metrics import accuracy_score\n",
    "from transformers import AutoTokenizer,GPTJForCausalLM\n",
    "from transformers import GPTNeoForCausalLM, GPT2Tokenizer"
   ]
  },
  {
   "cell_type": "code",
   "execution_count": null,
   "metadata": {
    "id": "FvLD80TNTEig"
   },
   "outputs": [],
   "source": [
    "device = torch.device(\"cuda\" if torch.cuda.is_available() else \"cpu\")"
   ]
  },
  {
   "cell_type": "code",
   "execution_count": null,
   "metadata": {
    "colab": {
     "base_uri": "https://localhost:8080/"
    },
    "id": "d4sF8fjtSyCv",
    "outputId": "5ef26641-19ad-477f-d1e3-7dbb834c0329"
   },
   "outputs": [],
   "source": [
    "from google.colab import drive\n",
    "drive.mount('/content/drive')"
   ]
  },
  {
   "cell_type": "code",
   "execution_count": null,
   "metadata": {
    "id": "d0mX1G66S8V4"
   },
   "outputs": [],
   "source": [
    "file_path = '/content/drive/MyDrive/rumor_PHEME.csv'\n",
    "df = pd.read_csv(file_path)"
   ]
  },
  {
   "cell_type": "code",
   "execution_count": null,
   "metadata": {
    "colab": {
     "base_uri": "https://localhost:8080/",
     "height": 206
    },
    "id": "raDfdQbrTJz_",
    "outputId": "305f2bf0-de23-4ad4-9f8d-59e49a4c0f34"
   },
   "outputs": [],
   "source": [
    "df.head()"
   ]
  },
  {
   "cell_type": "code",
   "execution_count": null,
   "metadata": {
    "colab": {
     "base_uri": "https://localhost:8080/",
     "height": 206
    },
    "id": "lhOZFwlRTLQn",
    "outputId": "308e2131-67d5-4507-b5b0-19a27bf6e5b5"
   },
   "outputs": [],
   "source": [
    "df.drop(columns=['Sentiment','Emotion','Unnamed: 3'], inplace=True)\n",
    "df.dropna(inplace=True)\n",
    "df.head()"
   ]
  },
  {
   "cell_type": "code",
   "execution_count": null,
   "metadata": {
    "id": "S5JpMG9vTO27"
   },
   "outputs": [],
   "source": [
    "tokenizer = GPT2Tokenizer.from_pretrained(\"EleutherAI/gpt-neo-1.3B\")\n",
    "model = GPTNeoForCausalLM.from_pretrained(\"EleutherAI/gpt-neo-1.3B\")"
   ]
  },
  {
   "cell_type": "code",
   "execution_count": null,
   "metadata": {
    "id": "E6Z-OAmjTS-T"
   },
   "outputs": [],
   "source": [
    "predictions = []\n",
    "end_sequence='###'"
   ]
  },
  {
   "cell_type": "code",
   "execution_count": null,
   "metadata": {
    "colab": {
     "base_uri": "https://localhost:8080/",
     "height": 477
    },
    "id": "qBrXKgpSTZ0D",
    "outputId": "5d17ae71-3ae9-413d-9683-7bc49fb8cb82"
   },
   "outputs": [],
   "source": [
    "for index, row in df.iterrows():\n",
    "    tweet = row['tweet']\n",
    "    prompt = \"\"\"\n",
    "    You are given tweets regarding news events,you need to classify the tweets whether the given tweet is rumor or non-rumor.\n",
    "    Tweet:Charlie Hebdo became well known for publishing the Muhammed cartoons two years ago\n",
    "    Answer=non-rumor\n",
    "    ###\n",
    "    Tweet:Now 10 dead in a shooting there today RT \"BBCDanielS: Charlie Hebdo became well known for publishing the Muhammed cartoons two years ago\n",
    "    Answer=non-rumor\n",
    "    ###\n",
    "    Tweet:BBCDanielS BBCWorld I'm guessing this is being considered terrorism right now or lone wolf?\n",
    "    Answer:non-rumor\n",
    "    ###\n",
    "    Tweet:GabTarquini BBCDanielS BBCWorld Maybe because they shouted \"the prophet have been avenged\" thus making it relevant to the story?\n",
    "    Answer:non-rumor\n",
    "    ###\n",
    "    Tweet:Once again it shows totall and absolute failure and incompetence of French intelligence and police in preventing terrorism.\n",
    "    Answer:non-rumor\n",
    "    ###\n",
    "    Tweet:kodacohen .BarackObama PAST TIME 2 put a stop to this!Damn what racists will say. Even U r #mikebrown 2 them. World is watching #PBOLegacy\n",
    "    Answer:non-rumor\n",
    "    ###\n",
    "    Tweet:realist_tg JeanieSmithKSDK kayquinn kodacohen TheRevAl   I do not understand the mentality behind it.  Totally a worthless cause.\n",
    "    Answer:non-rumor\n",
    "    ###\n",
    "    Tweet:furlinedPumas kodacohen people have been out there all day, every day since this started. Focus on his bravery instead.\n",
    "    Answer:non-rumor\n",
    "    ###\n",
    "    Tweet:DreadlockDipset they said something about robbery in the beginning and the employees at that QuickTrip said they never called the police\n",
    "    Answer:non-rumor\n",
    "    ###\n",
    "    Tweet:MotherJones this shows me that white people are slow and have no idea how to fire a gun. I also fail to see the unarmed data.\n",
    "    Answer:non-rumor\n",
    "    ###\n",
    "    Tweet:AnonyOps Maybe the police in Ferguson are just complete trolls?\n",
    "    Answer:rumor\n",
    "    ###\n",
    "    Tweet:AnonyOps There are A LOT of non black Americans who are VERY ANGRY at the Ferguson cops. I am a white man. Let's stand together in truth.\n",
    "    Answer:rumor\n",
    "    ###\n",
    "    Tweet:AnonyOps Xplant So that means its ok to torch and loot someone's business?\n",
    "    Answer:rumor\n",
    "    ###\n",
    "    Tweet:Xplant AnonyOps I'm curious how many of these protesters ever showed up to city meetings, town halls etc, to voice concerns or grievances?\n",
    "    Answer:rumor\n",
    "    ###\n",
    "    Tweet:RT_com attacking unarmed people with automatic weapons. How brave there were!\n",
    "    Answer:rumor\n",
    "    ###\n",
    "    Tweet:MT daphneedenis: This was a well-planned attack: the gunmen hit #CharlieHebdo in middle of weekly conference, with all staff present.\n",
    "    Answer:rumor\n",
    "    ###\n",
    "    Tweet:CharlieHebdo's lawyer says the magazine's editor-in-chief was killed in the attack. More on this developing story: http://t.co/ryZaVLR6mM\n",
    "    Answer:rumor\n",
    "    ###\n",
    "    Tweet:Sjcrookston AidanRoyale  nobody is forcing you to be like us. You don't have to respect us BUT BE TOLERANT OF US!!!\n",
    "    Answer:rumor\n",
    "    ###\n",
    "    Tweet:Sjcrookston AidanRoyale  I think at your age you know that western media has got an agenda muslims\n",
    "    Answer:rumor\n",
    "    ###\n",
    "    Tweet:Xplant AnonyOps You get 15,000 people showing up to a city meeting, that'll change minds quickly without all the needed violence &amp; mayhem\n",
    "    prediction:rumor\n",
    "    ###\n",
    "    Tweet:\"\"\"+tweet+\"\"\" Return your answer in rumor and non rumor only.\n",
    "    Answer:\"\"\"\n",
    "    gen = pipeline(\"text-generation\",model=model,tokenizer=tokenizer,temperature=0.4,max_length=1100,return_full_text=False,eos_token_id=[int(tokenizer.convert_tokens_to_ids(end_sequence))])\n",
    "    #gen = pipeline(\"text-generation\",model=model,tokenizer=tokenizer,temperature=0.4,max_length=100,return_full_text=False)\n",
    "\n",
    "    response=gen(prompt)\n",
    "    generated_text = response[0]['generated_text']\n",
    "    label = generated_text.split('\\n')[0]\n",
    "    #print(label)\n",
    "    #predictions.append(label)\n",
    "    if ((label.lower()==\"non rumor\")or(label.lower()==\"non-rumor\")or(label.lower()==\"non\")):\n",
    "        predictions.append(\"Non-Rumor\")\n",
    "    else:\n",
    "        predictions.append(\"Rumor\")"
   ]
  },
  {
   "cell_type": "code",
   "execution_count": null,
   "metadata": {
    "id": "cVinNaHJZU0u"
   },
   "outputs": [],
   "source": []
  }
 ],
 "metadata": {
  "colab": {
   "provenance": []
  },
  "kernelspec": {
   "display_name": "Python 3 (ipykernel)",
   "language": "python",
   "name": "python3"
  },
  "language_info": {
   "codemirror_mode": {
    "name": "ipython",
    "version": 3
   },
   "file_extension": ".py",
   "mimetype": "text/x-python",
   "name": "python",
   "nbconvert_exporter": "python",
   "pygments_lexer": "ipython3",
   "version": "3.10.12"
  }
 },
 "nbformat": 4,
 "nbformat_minor": 4
}
