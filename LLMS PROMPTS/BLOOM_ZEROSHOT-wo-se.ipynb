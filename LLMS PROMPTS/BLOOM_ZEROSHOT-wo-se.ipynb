{
 "cells": [
  {
   "cell_type": "code",
   "execution_count": null,
   "metadata": {
    "colab": {
     "base_uri": "https://localhost:8080/"
    },
    "id": "QUsshULYwmrP",
    "outputId": "f137faaf-eeb8-4ef7-ea3b-104d708f30f7"
   },
   "outputs": [],
   "source": [
    "pip install transformers"
   ]
  },
  {
   "cell_type": "code",
   "execution_count": null,
   "metadata": {
    "id": "_ZZVx6ZHIKpE"
   },
   "outputs": [],
   "source": [
    "from transformers import AutoModelForCausalLM, AutoTokenizer\n",
    "import pandas as pd\n",
    "from transformers import pipeline\n",
    "import torch\n",
    "# device = torch.device(\"cpu\")\n",
    "from transformers import GPTJForCausalLM, AutoTokenizer\n",
    "from transformers import AutoModelForCausalLM, AutoTokenizer\n",
    "from sklearn.metrics import f1_score\n",
    "from sklearn.metrics import accuracy_score\n",
    "from transformers import AutoTokenizer,GPTJForCausalLM\n",
    "from transformers import GPTNeoForCausalLM, GPT2Tokenizer\n",
    "import pandas as pd"
   ]
  },
  {
   "cell_type": "code",
   "execution_count": null,
   "metadata": {
    "id": "WUHfZAGlIRcF"
   },
   "outputs": [],
   "source": [
    "device = torch.device(\"cuda\" if torch.cuda.is_available() else \"cpu\")"
   ]
  },
  {
   "cell_type": "code",
   "execution_count": null,
   "metadata": {
    "colab": {
     "base_uri": "https://localhost:8080/"
    },
    "id": "la9F6fGJITe-",
    "outputId": "d77a0601-e3df-4c27-f3cb-69f4ecce6d9a"
   },
   "outputs": [],
   "source": [
    "tokenizer=AutoTokenizer.from_pretrained('bigscience/bloomz-560m')\n",
    "model = AutoModelForCausalLM.from_pretrained('bigscience/bloomz-560m')"
   ]
  },
  {
   "cell_type": "code",
   "execution_count": null,
   "metadata": {
    "id": "K6P0iNlzKd_e"
   },
   "outputs": [],
   "source": [
    "df = pd.read_csv('covid19.csv')"
   ]
  },
  {
   "cell_type": "code",
   "execution_count": null,
   "metadata": {
    "colab": {
     "base_uri": "https://localhost:8080/",
     "height": 206
    },
    "id": "_savzwfmKjwD",
    "outputId": "76bdbd4f-d877-4979-a951-fd3dec7f10fb"
   },
   "outputs": [],
   "source": [
    "df.head()"
   ]
  },
  {
   "cell_type": "code",
   "execution_count": null,
   "metadata": {
    "id": "FPdcn6_-n70m"
   },
   "outputs": [],
   "source": []
  },
  {
   "cell_type": "code",
   "execution_count": null,
   "metadata": {
    "colab": {
     "base_uri": "https://localhost:8080/"
    },
    "id": "boklSgf1KtiH",
    "outputId": "b6ab1f05-b9d7-43cf-e45b-1cf4729c5db1"
   },
   "outputs": [],
   "source": [
    "predictions = []\n",
    "for index, row in df.head(500).iterrows():\n",
    "    print(f\"{index+1}\")\n",
    "    tweet = row['tweet']\n",
    "    prompt = f\"\"\"\n",
    "    You are an excellent data annotator.\n",
    "    You know every incident and have common sense like humans.\n",
    "    Your aim is to annotate the given text data to 2 labels namely rumor & non-rumor.\n",
    "    Output should be strictly the label for the given data which is  either rumor or non-rumor.\n",
    "    Here is the given text data: \\n{tweet}.\n",
    "    The label for this text is:\n",
    "    \"\"\"\n",
    "\n",
    "\n",
    "    inputs = tokenizer(prompt, return_tensors=\"pt\")\n",
    "    #inputs = {k: v.to(device) for k, v in inputs.items()}\n",
    "    outputs = model.generate(**inputs, max_length=512)\n",
    "    response = tokenizer.batch_decode(outputs, skip_special_tokens=True)[0]\n",
    "    # print(response)\n",
    "\n",
    "  # Extract the label from the model's response\n",
    "    label = response.split(':')[-1].strip().lower()\n",
    "    label_corrected = label.split(\"\\n\")[0]\n",
    "    # Store the label directly in the DataFrame\n",
    "    df.at[index, 'label'] = label_corrected\n",
    "    print(label_corrected)\n",
    "\n",
    "# Save the DataFrame to a CSV file\n",
    "    df.to_csv('result-covid19.csv', index=False)\n"
   ]
  },
  {
   "cell_type": "code",
   "execution_count": null,
   "metadata": {
    "id": "9duSNWVEz55z"
   },
   "outputs": [],
   "source": []
  }
 ],
 "metadata": {
  "accelerator": "GPU",
  "colab": {
   "gpuType": "T4",
   "provenance": []
  },
  "kernelspec": {
   "display_name": "Python 3 (ipykernel)",
   "language": "python",
   "name": "python3"
  },
  "language_info": {
   "codemirror_mode": {
    "name": "ipython",
    "version": 3
   },
   "file_extension": ".py",
   "mimetype": "text/x-python",
   "name": "python",
   "nbconvert_exporter": "python",
   "pygments_lexer": "ipython3",
   "version": "3.10.12"
  }
 },
 "nbformat": 4,
 "nbformat_minor": 4
}
