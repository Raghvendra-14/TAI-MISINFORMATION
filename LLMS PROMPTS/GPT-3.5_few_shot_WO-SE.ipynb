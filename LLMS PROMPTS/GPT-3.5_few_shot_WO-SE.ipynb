{
 "cells": [
  {
   "cell_type": "code",
   "execution_count": null,
   "id": "b5679f2f",
   "metadata": {},
   "outputs": [],
   "source": [
    "import openai\n",
    "import pandas as pd\n",
    "import os\n",
    "import pickle\n",
    "import csv\n",
    "import numpy as np\n",
    "os.getcwd()"
   ]
  },
  {
   "cell_type": "code",
   "execution_count": null,
   "id": "5dfb356b",
   "metadata": {},
   "outputs": [],
   "source": [
    "openai.api_key = \"ENTER KEY HERE\""
   ]
  },
  {
   "cell_type": "code",
   "execution_count": null,
   "id": "53dfe94b",
   "metadata": {},
   "outputs": [],
   "source": [
    "df = pd.read_csv(\"politifact_fake.csv\");"
   ]
  },
  {
   "cell_type": "code",
   "execution_count": null,
   "id": "51c20bae",
   "metadata": {},
   "outputs": [],
   "source": [
    "df=df['title']\n",
    "df"
   ]
  },
  {
   "cell_type": "code",
   "execution_count": null,
   "id": "1ded889a",
   "metadata": {},
   "outputs": [],
   "source": [
    "message_fewshot = '''\n",
    "    \n",
    "    Tweet: National Federation of Independent Business\n",
    "    CHATGPT=non-rumour\n",
    "    \n",
    "    Tweet: Romney makes pitch, hoping to close deal : Elections : The Rocky Mountain News\n",
    "    CHATGPT=non-rumour\n",
    "    \n",
    "    Tweet: Donald Trump exaggerates when he says China has 'total control' over North Korea\n",
    "    CHATGPT:non-rumour\n",
    "    \n",
    "    Tweet: Covering Young Adults Under the Affordable Care Act: The Importance of Outreach and Medicaid Expansion\n",
    "    CHATGPT:non-rumour\n",
    "    \n",
    "    Tweet: Hillary Clinton says guns exceed next nine categories as leading cause of death for young black men\n",
    "    CHATGPT:non-rumour\n",
    "    \n",
    "    Tweet: Already a lost decade: Working-age household income down more than 10% since 2000\n",
    "    CHATGPT:non-rumour\n",
    "    \n",
    "    Tweet: Employment, Hours, and Earnings from the Current Employment Statistics survey (National) Home Page\n",
    "    CHATGPT:non-rumour\n",
    "    \n",
    "    Tweet: McDonnell Letter Urges No Delay in Virginia Offshore Energy Exploration and Development\n",
    "    CHATGPT:non-rumour\n",
    "    \n",
    "    Tweet: To young people who are undocumented: This is your country, too.\n",
    "    CHATGPT:non-rumour\n",
    "    \n",
    "    Tweet: Remarks by the President on Increasing Oversight on Manipulation in Oil Markets\n",
    "    CHATGPT:non-rumour\n",
    "    \n",
    "    Tweet: BREAKING: First NFL Team Declares Bankruptcy Over Kneeling Thugs\n",
    "    CHATGPT:rumour\n",
    "    \n",
    "    Tweet: UPDATE: Second Roy Moore Accuser Works For Michelle Obama Right NOW -\n",
    "    CHATGPT:rumour\n",
    "    \n",
    "    Tweet: Oscar Pistorius Attempts To Commit Suicide\n",
    "    CHATGPT:rumour\n",
    "    \n",
    "    Tweet: Target to Discontinue Sale of Holy Bible\n",
    "    CHATGPT:rumour\n",
    "    \n",
    "    Tweet: ICE Detainer Issued for Suspected Wine Country Arsonist in Sonoma Jail\n",
    "    CHATGPT:rumour\n",
    "    \n",
    "    Tweet: Clinton Campaign official arrested by FBI on child rape/trafficking charges\n",
    "    CHATGPT:rumour\n",
    "    \n",
    "    Tweet: Biden raises possibility of 2020 presidential bid\n",
    "    CHATGPT:rumour\n",
    "    \n",
    "    Tweet: Snapchat is shutting down!\n",
    "    CHATGPT:rumour\n",
    "    \n",
    "    Tweet: Barrels removed from Clinton property contain parts from 3 missing women.\n",
    "    CHATGPT:rumour\n",
    "    \n",
    "    Tweet: Man charged with murder after driving into anti-far-right protesters in Charlottesville\n",
    "    CHATGPT:rumour\n",
    "    \n",
    "    '''"
   ]
  },
  {
   "cell_type": "code",
   "execution_count": null,
   "id": "e671842f",
   "metadata": {},
   "outputs": [],
   "source": [
    "rumour =0\n",
    "nonrumour = 0"
   ]
  },
  {
   "cell_type": "code",
   "execution_count": null,
   "id": "64879bf8",
   "metadata": {},
   "outputs": [],
   "source": [
    "prompt = \"\"\"\n",
    "           You know every incident and have Common sense like humans. Your aim is to annotate the given text data to 2 labels \n",
    "           namely rumour & non-rumour. The output should strictly be the label for the given data, \n",
    "           which is either “rumour” or “non-rumour.” Here is the provided text data: {data}. The label for this text is\n",
    "             \"\"\"\n",
    "\n",
    "\n",
    "\n",
    "messages = [{\"role\":\"system\",\"content\" : prompt}] \n",
    "\n",
    "for i in range(0,432,1):\n",
    "    newmessage = '''\n",
    "Tweet: ''' + df[i] + '''\n",
    "CHATGPT: '''\n",
    "\n",
    "    message = message_fewshot+newmessage\n",
    "    if message:\n",
    "\n",
    "        messages.append({\"role\":\"user\",\"content\":message})\n",
    "        chat = openai.ChatCompletion.create(\n",
    "            model=\"gpt-3.5-turbo\", messages=messages\n",
    "        )\n",
    "    reply = chat.choices[0].message.content\n",
    "    messages.pop()\n",
    "    if(reply == 'rumour') :rumour+=1\n",
    "    else : nonrumour+=1\n",
    "    \n",
    "    print(f\"{i}: {reply}\")\n",
    "    \n",
    "print(\"rumour : \" , rumour , \"non-rumour : \",nonrumour)"
   ]
  },
  {
   "cell_type": "code",
   "execution_count": null,
   "id": "d60ce9e6",
   "metadata": {},
   "outputs": [],
   "source": []
  }
 ],
 "metadata": {
  "kernelspec": {
   "display_name": "Python 3 (ipykernel)",
   "language": "python",
   "name": "python3"
  },
  "language_info": {
   "codemirror_mode": {
    "name": "ipython",
    "version": 3
   },
   "file_extension": ".py",
   "mimetype": "text/x-python",
   "name": "python",
   "nbconvert_exporter": "python",
   "pygments_lexer": "ipython3",
   "version": "3.10.12"
  }
 },
 "nbformat": 4,
 "nbformat_minor": 5
}
