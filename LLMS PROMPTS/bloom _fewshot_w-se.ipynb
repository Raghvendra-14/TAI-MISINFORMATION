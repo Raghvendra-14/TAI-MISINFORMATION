{
 "cells": [
  {
   "cell_type": "code",
   "execution_count": 1,
   "id": "3e40d177",
   "metadata": {},
   "outputs": [
    {
     "name": "stderr",
     "output_type": "stream",
     "text": [
      "2024-03-03 00:55:11.232503: I tensorflow/core/platform/cpu_feature_guard.cc:182] This TensorFlow binary is optimized to use available CPU instructions in performance-critical operations.\n",
      "To enable the following instructions: AVX2 FMA, in other operations, rebuild TensorFlow with the appropriate compiler flags.\n",
      "2024-03-03 00:55:18.000850: W tensorflow/compiler/tf2tensorrt/utils/py_utils.cc:38] TF-TRT Warning: Could not find TensorRT\n"
     ]
    }
   ],
   "source": [
    "from transformers import AutoModelForCausalLM, AutoTokenizer\n",
    "import pandas as pd\n",
    "from transformers import pipeline\n",
    "import torch\n",
    "# device = torch.device(\"cpu\")\n",
    "from transformers import GPTJForCausalLM, AutoTokenizer\n",
    "from transformers import AutoModelForCausalLM, AutoTokenizer\n",
    "from sklearn.metrics import f1_score\n",
    "from sklearn.metrics import accuracy_score\n",
    "from transformers import AutoTokenizer,GPTJForCausalLM\n",
    "from transformers import GPTNeoForCausalLM, GPT2Tokenizer\n",
    "import pandas as pd"
   ]
  },
  {
   "cell_type": "code",
   "execution_count": 2,
   "id": "37097279",
   "metadata": {},
   "outputs": [],
   "source": [
    "from transformers import AutoModelForCausalLM, AutoTokenizer\n",
    "import pandas as pd\n",
    "from transformers import pipeline\n",
    "import torch\n",
    "from transformers import GPTJForCausalLM, AutoTokenizer\n",
    "from transformers import AutoModelForCausalLM, AutoTokenizer\n",
    "from sklearn.metrics import f1_score\n",
    "from sklearn.metrics import accuracy_score\n",
    "from transformers import AutoTokenizer,GPTJForCausalLM\n",
    "from transformers import AutoModelForSeq2SeqLM, AutoTokenizer\n",
    "from transformers import T5Tokenizer, T5ForConditionalGeneration\n",
    "import re\n",
    "import nltk\n",
    "from nltk.corpus import stopwords\n",
    "from transformers import GPTNeoForCausalLM, GPT2Tokenizer"
   ]
  },
  {
   "cell_type": "code",
   "execution_count": 3,
   "id": "f1b10df1",
   "metadata": {},
   "outputs": [
    {
     "name": "stderr",
     "output_type": "stream",
     "text": [
      "/home2/goddu_2211cs07/anaconda3/envs/nlp_summer/lib/python3.11/site-packages/torch/cuda/__init__.py:107: UserWarning: CUDA initialization: The NVIDIA driver on your system is too old (found version 10020). Please update your GPU driver by downloading and installing a new version from the URL: http://www.nvidia.com/Download/index.aspx Alternatively, go to: https://pytorch.org to install a PyTorch version that has been compiled with your version of the CUDA driver. (Triggered internally at ../c10/cuda/CUDAFunctions.cpp:109.)\n",
      "  return torch._C._cuda_getDeviceCount() > 0\n"
     ]
    }
   ],
   "source": [
    "device = torch.device(\"cuda\" if torch.cuda.is_available() else \"cpu\")"
   ]
  },
  {
   "cell_type": "code",
   "execution_count": 4,
   "id": "60483612",
   "metadata": {},
   "outputs": [],
   "source": [
    "tokenizer=AutoTokenizer.from_pretrained('bigscience/bloomz-560m')\n",
    "model = AutoModelForCausalLM.from_pretrained('bigscience/bloomz-560m')"
   ]
  },
  {
   "cell_type": "code",
   "execution_count": 5,
   "id": "4c364f02",
   "metadata": {},
   "outputs": [],
   "source": [
    "df = pd.read_csv('gossipcopfake_sentiment_vader.csv')"
   ]
  },
  {
   "cell_type": "code",
   "execution_count": 6,
   "id": "91fe3a61",
   "metadata": {},
   "outputs": [
    {
     "data": {
      "text/html": [
       "<div>\n",
       "<style scoped>\n",
       "    .dataframe tbody tr th:only-of-type {\n",
       "        vertical-align: middle;\n",
       "    }\n",
       "\n",
       "    .dataframe tbody tr th {\n",
       "        vertical-align: top;\n",
       "    }\n",
       "\n",
       "    .dataframe thead th {\n",
       "        text-align: right;\n",
       "    }\n",
       "</style>\n",
       "<table border=\"1\" class=\"dataframe\">\n",
       "  <thead>\n",
       "    <tr style=\"text-align: right;\">\n",
       "      <th></th>\n",
       "      <th>index</th>\n",
       "      <th>tweet</th>\n",
       "      <th>max_emotion</th>\n",
       "      <th>sentiment</th>\n",
       "    </tr>\n",
       "  </thead>\n",
       "  <tbody>\n",
       "    <tr>\n",
       "      <th>0</th>\n",
       "      <td>0</td>\n",
       "      <td>miley cyrus liam hemsworth secretly get married</td>\n",
       "      <td>joy</td>\n",
       "      <td>neutral</td>\n",
       "    </tr>\n",
       "    <tr>\n",
       "      <th>1</th>\n",
       "      <td>1</td>\n",
       "      <td>paris jackson cara delevingne enjoy night matc...</td>\n",
       "      <td>joy</td>\n",
       "      <td>positive</td>\n",
       "    </tr>\n",
       "    <tr>\n",
       "      <th>2</th>\n",
       "      <td>2</td>\n",
       "      <td>celebrities join tax march protest donald trump</td>\n",
       "      <td>anger</td>\n",
       "      <td>positive</td>\n",
       "    </tr>\n",
       "    <tr>\n",
       "      <th>3</th>\n",
       "      <td>3</td>\n",
       "      <td>cindy crawfords daughter kaia gerber wears wig...</td>\n",
       "      <td>joy</td>\n",
       "      <td>neutral</td>\n",
       "    </tr>\n",
       "    <tr>\n",
       "      <th>4</th>\n",
       "      <td>4</td>\n",
       "      <td>full list 2018 oscar nominations variety</td>\n",
       "      <td>neutral</td>\n",
       "      <td>neutral</td>\n",
       "    </tr>\n",
       "  </tbody>\n",
       "</table>\n",
       "</div>"
      ],
      "text/plain": [
       "   index                                              tweet max_emotion  \\\n",
       "0      0    miley cyrus liam hemsworth secretly get married         joy   \n",
       "1      1  paris jackson cara delevingne enjoy night matc...         joy   \n",
       "2      2    celebrities join tax march protest donald trump       anger   \n",
       "3      3  cindy crawfords daughter kaia gerber wears wig...         joy   \n",
       "4      4           full list 2018 oscar nominations variety     neutral   \n",
       "\n",
       "  sentiment  \n",
       "0   neutral  \n",
       "1  positive  \n",
       "2  positive  \n",
       "3   neutral  \n",
       "4   neutral  "
      ]
     },
     "execution_count": 6,
     "metadata": {},
     "output_type": "execute_result"
    }
   ],
   "source": [
    "df.head()"
   ]
  },
  {
   "cell_type": "code",
   "execution_count": 7,
   "id": "5e31ef1a",
   "metadata": {},
   "outputs": [
    {
     "data": {
      "text/html": [
       "<div>\n",
       "<style scoped>\n",
       "    .dataframe tbody tr th:only-of-type {\n",
       "        vertical-align: middle;\n",
       "    }\n",
       "\n",
       "    .dataframe tbody tr th {\n",
       "        vertical-align: top;\n",
       "    }\n",
       "\n",
       "    .dataframe thead th {\n",
       "        text-align: right;\n",
       "    }\n",
       "</style>\n",
       "<table border=\"1\" class=\"dataframe\">\n",
       "  <thead>\n",
       "    <tr style=\"text-align: right;\">\n",
       "      <th></th>\n",
       "      <th>tweet</th>\n",
       "    </tr>\n",
       "  </thead>\n",
       "  <tbody>\n",
       "    <tr>\n",
       "      <th>0</th>\n",
       "      <td>miley cyrus liam hemsworth secretly get married</td>\n",
       "    </tr>\n",
       "    <tr>\n",
       "      <th>1</th>\n",
       "      <td>paris jackson cara delevingne enjoy night matc...</td>\n",
       "    </tr>\n",
       "    <tr>\n",
       "      <th>2</th>\n",
       "      <td>celebrities join tax march protest donald trump</td>\n",
       "    </tr>\n",
       "    <tr>\n",
       "      <th>3</th>\n",
       "      <td>cindy crawfords daughter kaia gerber wears wig...</td>\n",
       "    </tr>\n",
       "    <tr>\n",
       "      <th>4</th>\n",
       "      <td>full list 2018 oscar nominations variety</td>\n",
       "    </tr>\n",
       "  </tbody>\n",
       "</table>\n",
       "</div>"
      ],
      "text/plain": [
       "                                               tweet\n",
       "0    miley cyrus liam hemsworth secretly get married\n",
       "1  paris jackson cara delevingne enjoy night matc...\n",
       "2    celebrities join tax march protest donald trump\n",
       "3  cindy crawfords daughter kaia gerber wears wig...\n",
       "4           full list 2018 oscar nominations variety"
      ]
     },
     "execution_count": 7,
     "metadata": {},
     "output_type": "execute_result"
    }
   ],
   "source": [
    "df.drop(columns=['index','max_emotion','sentiment'], inplace=True)\n",
    "df.dropna(inplace=True)\n",
    "df.head()"
   ]
  },
  {
   "cell_type": "code",
   "execution_count": null,
   "id": "fdcecc81",
   "metadata": {},
   "outputs": [],
   "source": [
    "predictions = []\n",
    "for index, row in df.head(10).iterrows():\n",
    "    print(index)\n",
    "    tweet = row['tweet']\n",
    "    prompt = \"\"\"\n",
    "     you are an excellent data annotator. you know every incident and have common sense like humans. your aim is\n",
    "                to annotate the given text data to 2 labels namely rumour & non-rumour.\n",
    "    You are given tweets regarding news events,you need to classify the tweets whether the given tweet is rumour or non-rumour.\n",
    "    Tweet:brad pitt going back school impress professor girlfriend neri oxman + \"emotion for this tweet is\" + neutral + \"sentiment for this tweet is\" + positive\n",
    "    Answer=rumour\n",
    "    ###\n",
    "    Tweet:drew barrymore secretly sleepovers exhusband kopelman + \"emotion for this tweet is\" + neutral + \"sentiment for this tweet is\" + neutral\n",
    "    Answer=rumour\n",
    "    ###\n",
    "    Tweet:angelina jolie brad pitts divorce master class pr spins + \"emotion for this tweet is\" + neutral + \"sentiment for this tweet is\" + neutral\n",
    "    Answer:rumour\n",
    "    ###\n",
    "    Tweet:johnny depp disney bosses couldnt stand jack sparrow thought character gay + \"emotion for this tweet is\" + sadness + \"sentiment for this tweet is\" + neutral\n",
    "    Answer:rumour\n",
    "    ###\n",
    "    Tweet:jennifer aniston reveals struggles dyslexia anger shrugs oscar snub + \"emotion for this tweet is\" + anger + \"sentiment for this tweet is\" + negative\n",
    "    Answer:rumour\n",
    "    ###\n",
    "    Tweet:angelina jolie gets aggressive major makeover + \"emotion for this tweet is\" + anger + \"sentiment for this tweet is\" + negative\n",
    "    Answer:rumour\n",
    "    ###\n",
    "    Tweet:taylor swift jealous harry styles dunkirk + \"emotion for this tweet is\" + joy + \"sentiment for this tweet is\" + negative\n",
    "    Answer:rumour\n",
    "    ###\n",
    "    Tweet:secret eyes + \"emotion for this tweet is\" + neutral + \"sentiment for this tweet is\" + neutral\n",
    "    Answer:rumour\n",
    "    ###\n",
    "    Tweet:kim kardashian west welcomes third child + \"emotion for this tweet is\" + joy + \"sentiment for this tweet is\" + positive\n",
    "    Answer:rumour\n",
    "    ###\n",
    "    Tweet:wwe star naomi keeps real comes showing marriage total divas + \"emotion for this tweet is\" + neutral + \"sentiment for this tweet is\" + neutral\n",
    "    Answer:non-rumour\n",
    "    ###\n",
    "    Tweet:blake lively trades blonde hair cropped black filming upcoming thriller + \"emotion for this tweet is\" + joy + \"sentiment for this tweet is\" + positive\n",
    "    Answer:non-rumour\n",
    "    ###\n",
    "    Tweet:real talk jessica alba bedtime might challenging part 3 kids + \"emotion for this tweet is\" + neutral + \"sentiment for this tweet is\" + positive\n",
    "    Answer:non-rumour\n",
    "    ###\n",
    "    Tweet:us jacks death even haunting fans expected + \"emotion for this tweet is\" + fear + \"sentiment for this tweet is\" + negative\n",
    "    Answer:non-rumour\n",
    "    ###\n",
    "    Tweet:kevin smith feeling good back home recovering massive heart attack + \"emotion for this tweet is\" + joy + \"sentiment for this tweet is\" + positive\n",
    "    Answer:non-rumour\n",
    "    ###\n",
    "    Tweet:sixyearold cancer patient jokes prince william old marry visits hospital + \"emotion for this tweet is\" + joy + \"sentiment for this tweet is\" + negative\n",
    "    Answer:non-rumour\n",
    "    ###\n",
    "    Tweet:vogue sorry gigi hadid zayn malik gender fluid claim + \"emotion for this tweet is\" + sadness + \"sentiment for this tweet is\" + negative\n",
    "    Answer:non-rumour\n",
    "    ###\n",
    "    Tweet:8 kate pippa middletoninspired mothers day gifts + \"emotion for this tweet is\" + joy + \"sentiment for this tweet is\" + neutral\n",
    "    Answer:non-rumour\n",
    "    ###\n",
    "    Tweet:big bang theory season 11 finale recap sheldon amys wedding gets big shocker + \"emotion for this tweet is\" + surprise + \"sentiment for this tweet is\" + negative\n",
    "    Answer:non-rumour\n",
    "    ###\n",
    "    Tweet:kuwtk reveals scott disick angry kourtneys new beau + \"emotion for this tweet is\" + anger + \"sentiment for this tweet is\" + negative\n",
    "    Answer:non-rumour\n",
    "    ###\n",
    "    Tweet:mama junes daughter pumpkin gets married las vegas + \"emotion for this tweet is\" + anger + \"sentiment for this tweet is\" + positive\n",
    "    prediction:non-rumour\n",
    "    ###\n",
    "    Tweet:\"\"\"+tweet+\"\"\" Return your answer in rumour and non rumour only.\n",
    "    Answer:\"\"\"\n",
    "    inputs = tokenizer(prompt, return_tensors=\"pt\")\n",
    "    inputs = {k: v.to(device) for k, v in inputs.items()}\n",
    "    outputs = model.generate(**inputs, max_length=900)\n",
    "    response = tokenizer.batch_decode(outputs, skip_special_tokens=True)[0]\n",
    "    answer = response.split(\":\")[-1].strip()\n",
    "    #predictions.append(answer)\n",
    "    #print(answer)\n",
    "    if \"non-rumour\" in response.lower():\n",
    "        prediction = \"non-rumour\"\n",
    "    else:\n",
    "        prediction = \"rumour\"\n",
    "    predictions.append(prediction)"
   ]
  },
  {
   "cell_type": "code",
   "execution_count": null,
   "id": "eb2e5cdd",
   "metadata": {},
   "outputs": [],
   "source": [
    "df_predictions=pd.DataFrame(predictions,columns=['Prediction'])"
   ]
  },
  {
   "cell_type": "code",
   "execution_count": null,
   "id": "51dbac74",
   "metadata": {},
   "outputs": [],
   "source": [
    "df_predictions.shape"
   ]
  },
  {
   "cell_type": "code",
   "execution_count": null,
   "id": "0ba9d038",
   "metadata": {},
   "outputs": [],
   "source": [
    "df_predictions.to_csv('gossipcopfake_flant-5_few_shot.csv')"
   ]
  },
  {
   "cell_type": "code",
   "execution_count": null,
   "id": "0f69af22",
   "metadata": {},
   "outputs": [],
   "source": [
    "count=df_predictions[df_predictions['Prediction']=='rumour'].shape[0]"
   ]
  },
  {
   "cell_type": "code",
   "execution_count": null,
   "id": "d81ef10d",
   "metadata": {},
   "outputs": [],
   "source": [
    "count"
   ]
  },
  {
   "cell_type": "code",
   "execution_count": null,
   "id": "5c9124b6",
   "metadata": {},
   "outputs": [],
   "source": []
  }
 ],
 "metadata": {
  "kernelspec": {
   "display_name": "Python 3 (ipykernel)",
   "language": "python",
   "name": "python3"
  },
  "language_info": {
   "codemirror_mode": {
    "name": "ipython",
    "version": 3
   },
   "file_extension": ".py",
   "mimetype": "text/x-python",
   "name": "python",
   "nbconvert_exporter": "python",
   "pygments_lexer": "ipython3",
   "version": "3.10.12"
  }
 },
 "nbformat": 4,
 "nbformat_minor": 5
}
