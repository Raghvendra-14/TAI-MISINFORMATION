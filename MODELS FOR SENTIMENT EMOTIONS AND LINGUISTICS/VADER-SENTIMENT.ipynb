{
 "cells": [
  {
   "cell_type": "code",
   "execution_count": 4,
   "metadata": {
    "colab": {
     "base_uri": "https://localhost:8080/"
    },
    "id": "AApFSCS2GGq-",
    "outputId": "72cb0209-9309-4baa-8bb8-f75e4aa6c315"
   },
   "outputs": [],
   "source": [
    "!pip install -q transformers"
   ]
  },
  {
   "cell_type": "code",
   "execution_count": 5,
   "metadata": {
    "colab": {
     "base_uri": "https://localhost:8080/"
    },
    "id": "BcxO0zlcRrbU",
    "outputId": "dff624b5-079f-4cf6-a9dc-27ab9e958b3c"
   },
   "outputs": [
    {
     "name": "stdout",
     "output_type": "stream",
     "text": [
      "Requirement already satisfied: tweet-preprocessor in /home2/goddu_2211cs07/anaconda3/envs/nlp_summer/lib/python3.11/site-packages (0.6.0)\r\n"
     ]
    }
   ],
   "source": [
    "!pip install tweet-preprocessor"
   ]
  },
  {
   "cell_type": "code",
   "execution_count": 6,
   "metadata": {
    "colab": {
     "base_uri": "https://localhost:8080/"
    },
    "id": "qQ99D6wR_y_W",
    "outputId": "e3f43105-c4e6-41a3-8427-1e0e3b47b8d6"
   },
   "outputs": [
    {
     "name": "stdout",
     "output_type": "stream",
     "text": [
      "Requirement already satisfied: emoji in /home2/goddu_2211cs07/anaconda3/envs/nlp_summer/lib/python3.11/site-packages (2.6.0)\r\n"
     ]
    }
   ],
   "source": [
    "!pip install emoji"
   ]
  },
  {
   "cell_type": "code",
   "execution_count": 7,
   "metadata": {
    "id": "hxcGAi-2usXs"
   },
   "outputs": [],
   "source": [
    "import os"
   ]
  },
  {
   "cell_type": "code",
   "execution_count": 8,
   "metadata": {
    "id": "Wd_gzaq7ulVw"
   },
   "outputs": [],
   "source": [
    "import pickle"
   ]
  },
  {
   "cell_type": "code",
   "execution_count": null,
   "metadata": {
    "id": "6_2qBQaaNOmS"
   },
   "outputs": [],
   "source": [
    "import matplotlib.pyplot as plt\n",
    "import pandas as pd\n",
    "import numpy as np"
   ]
  },
  {
   "cell_type": "code",
   "execution_count": 11,
   "metadata": {
    "id": "RvZtq_2GwT-M"
   },
   "outputs": [],
   "source": [
    "import json"
   ]
  },
  {
   "cell_type": "code",
   "execution_count": 12,
   "metadata": {
    "colab": {
     "base_uri": "https://localhost:8080/",
     "height": 305
    },
    "id": "xtosT-GKF6iw",
    "outputId": "1ad69feb-ccc0-44ab-c761-0f7d575011ea"
   },
   "outputs": [],
   "source": [
    "from transformers import pipeline"
   ]
  },
  {
   "cell_type": "code",
   "execution_count": 13,
   "metadata": {
    "id": "QNVLGP8kF8lI"
   },
   "outputs": [
    {
     "data": {
      "application/vnd.jupyter.widget-view+json": {
       "model_id": "1e96a08916cb482793d338c007ff5d65",
       "version_major": 2,
       "version_minor": 0
      },
      "text/plain": [
       "Downloading (…)lve/main/config.json:   0%|          | 0.00/949 [00:00<?, ?B/s]"
      ]
     },
     "metadata": {},
     "output_type": "display_data"
    },
    {
     "data": {
      "application/vnd.jupyter.widget-view+json": {
       "model_id": "f21ef2b78c3448459976e75d3d1ddbee",
       "version_major": 2,
       "version_minor": 0
      },
      "text/plain": [
       "Downloading pytorch_model.bin:   0%|          | 0.00/540M [00:00<?, ?B/s]"
      ]
     },
     "metadata": {},
     "output_type": "display_data"
    },
    {
     "data": {
      "application/vnd.jupyter.widget-view+json": {
       "model_id": "6ed7c851b228437dac236235f5c69888",
       "version_major": 2,
       "version_minor": 0
      },
      "text/plain": [
       "Downloading (…)okenizer_config.json:   0%|          | 0.00/338 [00:00<?, ?B/s]"
      ]
     },
     "metadata": {},
     "output_type": "display_data"
    },
    {
     "data": {
      "application/vnd.jupyter.widget-view+json": {
       "model_id": "df4bf6381afd49d7b3238f12ec261892",
       "version_major": 2,
       "version_minor": 0
      },
      "text/plain": [
       "Downloading (…)solve/main/vocab.txt:   0%|          | 0.00/843k [00:00<?, ?B/s]"
      ]
     },
     "metadata": {},
     "output_type": "display_data"
    },
    {
     "data": {
      "application/vnd.jupyter.widget-view+json": {
       "model_id": "7577ff80e7f8465bb4713690e8749567",
       "version_major": 2,
       "version_minor": 0
      },
      "text/plain": [
       "Downloading (…)solve/main/bpe.codes:   0%|          | 0.00/1.08M [00:00<?, ?B/s]"
      ]
     },
     "metadata": {},
     "output_type": "display_data"
    },
    {
     "data": {
      "application/vnd.jupyter.widget-view+json": {
       "model_id": "374c6ae52e4340b2aaa2a84fe526bc3f",
       "version_major": 2,
       "version_minor": 0
      },
      "text/plain": [
       "Downloading (…)in/added_tokens.json:   0%|          | 0.00/22.0 [00:00<?, ?B/s]"
      ]
     },
     "metadata": {},
     "output_type": "display_data"
    },
    {
     "data": {
      "application/vnd.jupyter.widget-view+json": {
       "model_id": "ba80c48517d748d4b152cb16006fc733",
       "version_major": 2,
       "version_minor": 0
      },
      "text/plain": [
       "Downloading (…)cial_tokens_map.json:   0%|          | 0.00/167 [00:00<?, ?B/s]"
      ]
     },
     "metadata": {},
     "output_type": "display_data"
    }
   ],
   "source": [
    "sentiment_pipeline = pipeline(\"sentiment-analysis\", model=\"finiteautomata/bertweet-base-sentiment-analysis\")"
   ]
  },
  {
   "cell_type": "code",
   "execution_count": null,
   "metadata": {
    "colab": {
     "base_uri": "https://localhost:8080/"
    },
    "id": "TCsqr2o0tLfL",
    "outputId": "a513b79a-ca30-4caa-bc57-a382f7152c19"
   },
   "outputs": [],
   "source": [
    "from google.colab import drive\n",
    "drive.mount(\"/content/drive\")"
   ]
  },
  {
   "cell_type": "code",
   "execution_count": null,
   "metadata": {
    "id": "5nxk5ylzjm9I"
   },
   "outputs": [],
   "source": [
    "# !tar -xvf \"/content/drive/MyDrive/phemernrdataset.tar.bz2\" -C \"/content/drive/MyDrive/NLP\""
   ]
  },
  {
   "cell_type": "code",
   "execution_count": null,
   "metadata": {
    "id": "2waYLo7tvW5X"
   },
   "outputs": [],
   "source": [
    "pathname = \"/content/drive/MyDrive/NLP/pheme-rnr-dataset/\"\n",
    "\n",
    "for author in os.listdir(pathname):\n",
    "\n",
    "  author_folder = os.path.join(pathname,author)\n",
    "  for tweet_type in os.listdir(author_folder):\n",
    "\n",
    "    tweet_type_folder = os.path.join(author_folder,tweet_type)\n",
    "    tweet_list = []\n",
    "    for item in os.listdir(tweet_type_folder):\n",
    "\n",
    "        item_folder = os.path.join(tweet_type_folder,item)\n",
    "        source_tweet_folder = os.path.join(item_folder,\"source-tweet\")\n",
    "        json_filename = os.listdir(source_tweet_folder)[0]\n",
    "        json_file_path = os.path.join(source_tweet_folder,json_filename)\n",
    "\n",
    "        with open(json_file_path,\"r\")as file:\n",
    "\n",
    "            data = json.load(file)\n",
    "            tweet = data['text']\n",
    "            tweet_list.append(tweet)\n",
    "\n",
    "\n",
    "    save_path = \"/content/drive/MyDrive/NLP/tweets/\"\n",
    "\n",
    "    filename = author + \"_\" + tweet_type + \".pkl\"\n",
    "\n",
    "    with open(save_path+filename,'wb') as f :\n",
    "      pickle.dump(tweet_list,f)\n",
    "\n",
    "    tweet_list = []\n",
    "\n",
    "\n"
   ]
  },
  {
   "cell_type": "code",
   "execution_count": null,
   "metadata": {
    "id": "rKOZzsaaLpep"
   },
   "outputs": [],
   "source": [
    "\n",
    "for filename in os.listdir(\"/content/drive/MyDrive/NLP/tweets\"):\n",
    "\n",
    "  with open(\"/content/drive/MyDrive/NLP/tweets/\" + filename , 'rb') as f :\n",
    "    loaded_tweets = pickle.load(f)\n",
    "\n",
    "  result_list = sentiment_pipeline(loaded_tweets)\n",
    "\n",
    "  with open(\"/content/drive/MyDrive/NLP/bertweet/\"+\"labeled_\" + filename,'wb') as f:\n",
    "    pickle.dump(result_list,f)\n",
    "\n"
   ]
  },
  {
   "cell_type": "code",
   "execution_count": null,
   "metadata": {
    "id": "f89PiIbSNpo9"
   },
   "outputs": [],
   "source": [
    "labeled_pathname = \"/content/drive/MyDrive/NLP/cleaned_bertweet/\"\n",
    "countpos = 0\n",
    "countneg = 0\n",
    "countneu = 0\n",
    "for item in os.listdir(labeled_pathname):\n",
    "  with open(labeled_pathname + item,'rb') as f :\n",
    "   loaded_list =  pickle.load(f)\n",
    "  for tweet in loaded_list :\n",
    "    if(tweet['label'] == \"POS\") :countpos+=1\n",
    "    if(tweet['label'] == \"NEG\") :countneg+=1\n",
    "    if(tweet['label'] == \"NEU\") :countneu+=1\n",
    "\n"
   ]
  },
  {
   "cell_type": "code",
   "execution_count": null,
   "metadata": {
    "colab": {
     "base_uri": "https://localhost:8080/"
    },
    "id": "JU7xqkASDNqe",
    "outputId": "4abf30f6-602e-4a08-b28c-a62d42dd85c0"
   },
   "outputs": [],
   "source": [
    "print(countpos , \" \",countneg,\" \",countneu)"
   ]
  },
  {
   "cell_type": "code",
   "execution_count": null,
   "metadata": {
    "id": "QaxZZdKIFO9x"
   },
   "outputs": [],
   "source": [
    "bertweet_result_list = [{'POS':countpos,'NEG':countneg,'NEU':countneu}]\n",
    "\n",
    "with open(\"/content/drive/MyDrive/NLP/numbers/\"+\"cleaned_bertweet_total.pkl\",'wb') as f :\n",
    "  pickle.dump(bertweet_result_list,f)\n"
   ]
  },
  {
   "cell_type": "code",
   "execution_count": null,
   "metadata": {
    "colab": {
     "base_uri": "https://localhost:8080/"
    },
    "id": "vLyX-8pvGEXe",
    "outputId": "9778266a-a191-4d85-f553-9ba06644a48e"
   },
   "outputs": [],
   "source": [
    "with open(\"/content/drive/MyDrive/NLP/numbers/bertweet_total.pkl\",'rb') as f:\n",
    "  print(pickle.load(f))"
   ]
  },
  {
   "cell_type": "code",
   "execution_count": null,
   "metadata": {
    "id": "ullQMlSSHEmv"
   },
   "outputs": [],
   "source": [
    "import re\n",
    "import preprocessor as p\n",
    "for item in os.listdir(\"/content/drive/MyDrive/NLP/tweets/\"):\n",
    "  with open(\"/content/drive/MyDrive/NLP/tweets/\" + item,'rb') as f :\n",
    "    messages = pickle.load(f)\n",
    "  new_tweet = []\n",
    "  for tweet in messages:\n",
    "      tweet = p.clean(tweet)\n",
    "      tweet = re.sub(\"\\.\\.+\",\" \",tweet)    # to substitute more than one '.' between words with a space\n",
    "      tweet = re.sub(\"-$\",\"\",tweet)        # to remove '-' at the end of a sentence\n",
    "      tweet = re.sub(r\"^ +\",\"\",tweet)      # to remove one or more whitespace at the beginning of a sentence\n",
    "      tweet = re.sub(r\"  +\",\" \",tweet)     # to substitute one or more whitespace with a single space\n",
    "      tweet = tweet.lower()\n",
    "      new_tweet.append(tweet)\n",
    "\n",
    "  with open(\"/content/drive/MyDrive/NLP/cleaned_tweets/\" + item,'wb') as f :\n",
    "    pickle.dump(new_tweet,f)\n"
   ]
  },
  {
   "cell_type": "code",
   "execution_count": null,
   "metadata": {
    "id": "STniDa06V6fc"
   },
   "outputs": [],
   "source": [
    "for filename in os.listdir(\"/content/drive/MyDrive/NLP/cleaned_tweets/\"):\n",
    "   with open(\"/content/drive/MyDrive/NLP/cleaned_tweets/\" + filename,'rb') as f :\n",
    "    my_list = pickle.load(f)\n",
    "   result_list = sentiment_pipeline(my_list)\n",
    "\n",
    "   with open(\"/content/drive/MyDrive/NLP/cleaned_bertweet/\"+\"labeled_\" + filename,'wb') as f :\n",
    "    pickle.dump(result_list,f)"
   ]
  },
  {
   "cell_type": "markdown",
   "metadata": {
    "id": "AZTorsWY1Tsv"
   },
   "source": [
    "## **VADER SENTIMENT ANALYSIS**"
   ]
  },
  {
   "cell_type": "code",
   "execution_count": 1,
   "metadata": {
    "id": "jnT_gFkIcyVq"
   },
   "outputs": [
    {
     "name": "stdout",
     "output_type": "stream",
     "text": [
      "Collecting vaderSentiment\n",
      "  Downloading vaderSentiment-3.3.2-py2.py3-none-any.whl (125 kB)\n",
      "\u001b[2K     \u001b[90m━━━━━━━━━━━━━━━━━━━━━━━━━━━━━━━━━━━━━━\u001b[0m \u001b[32m126.0/126.0 kB\u001b[0m \u001b[31m97.0 kB/s\u001b[0m eta \u001b[36m0:00:00\u001b[0m00:01\u001b[0m00:01\u001b[0m\n",
      "\u001b[?25hRequirement already satisfied: requests in /home2/goddu_2211cs07/anaconda3/envs/nlp_summer/lib/python3.11/site-packages (from vaderSentiment) (2.29.0)\n",
      "Requirement already satisfied: charset-normalizer<4,>=2 in /home2/goddu_2211cs07/anaconda3/envs/nlp_summer/lib/python3.11/site-packages (from requests->vaderSentiment) (2.0.4)\n",
      "Requirement already satisfied: idna<4,>=2.5 in /home2/goddu_2211cs07/anaconda3/envs/nlp_summer/lib/python3.11/site-packages (from requests->vaderSentiment) (3.4)\n",
      "Requirement already satisfied: urllib3<1.27,>=1.21.1 in /home2/goddu_2211cs07/anaconda3/envs/nlp_summer/lib/python3.11/site-packages (from requests->vaderSentiment) (1.26.16)\n",
      "Requirement already satisfied: certifi>=2017.4.17 in /home2/goddu_2211cs07/anaconda3/envs/nlp_summer/lib/python3.11/site-packages (from requests->vaderSentiment) (2023.5.7)\n",
      "Installing collected packages: vaderSentiment\n",
      "Successfully installed vaderSentiment-3.3.2\n"
     ]
    }
   ],
   "source": [
    "!pip install vaderSentiment\n",
    "\n",
    "#import the library\n",
    "from vaderSentiment.vaderSentiment import SentimentIntensityAnalyzer\n",
    "\n",
    "#calculate the negative, positive, neutral and compound scores, plus verbal evaluation\n",
    "def sentiment_vader(sentence):\n",
    "\n",
    "    # Create a SentimentIntensityAnalyzer object.\n",
    "    sid_obj = SentimentIntensityAnalyzer()\n",
    "\n",
    "    sentiment_dict = sid_obj.polarity_scores(sentence)\n",
    "\n",
    "    if sentiment_dict['compound'] >= 0.05 :\n",
    "        overall_sentiment = \"POS\"\n",
    "\n",
    "    elif sentiment_dict['compound'] <= - 0.05 :\n",
    "        overall_sentiment = \"NEG\"\n",
    "\n",
    "    else :\n",
    "        overall_sentiment = \"NEU\"\n",
    "\n",
    "    return  overall_sentiment"
   ]
  },
  {
   "cell_type": "code",
   "execution_count": null,
   "metadata": {
    "id": "E5rNorOO176F"
   },
   "outputs": [],
   "source": [
    "pathname = \"/content/drive/MyDrive/NLP/cleaned_tweets/\"\n",
    "\n",
    "for filename in os.listdir(pathname):\n",
    "  with open(pathname+filename,'rb') as f:\n",
    "      tweet_list = pickle.load(f)\n",
    "\n",
    "  empty_list = []\n",
    "\n",
    "  for item in tweet_list :\n",
    "    result = sentiment_vader(item)\n",
    "    empty_list.append(result)\n",
    "\n",
    "  with open(\"/content/drive/MyDrive/NLP/cleaned_vader/\"+\"labeled_\" + filename,'wb') as f :\n",
    "    pickle.dump(empty_list,f)"
   ]
  },
  {
   "cell_type": "code",
   "execution_count": null,
   "metadata": {
    "id": "L4B_jksz3i3p"
   },
   "outputs": [],
   "source": [
    "labeled_pathname = \"/content/drive/MyDrive/NLP/cleaned_vader/\"\n",
    "countpos = 0\n",
    "countneg = 0\n",
    "countneu = 0\n",
    "for item in os.listdir(labeled_pathname):\n",
    "  with open(labeled_pathname + item,'rb') as f :\n",
    "   loaded_list =  pickle.load(f)\n",
    "  for tweet in loaded_list :\n",
    "    if(tweet == \"POS\") :countpos+=1\n",
    "    if(tweet == \"NEG\") :countneg+=1\n",
    "    if(tweet == \"NEU\") :countneu+=1\n"
   ]
  },
  {
   "cell_type": "code",
   "execution_count": null,
   "metadata": {
    "colab": {
     "base_uri": "https://localhost:8080/"
    },
    "id": "otmjq-SvDB9_",
    "outputId": "ea0443f1-285f-4dc0-c892-bc45d445d8aa"
   },
   "outputs": [],
   "source": [
    "print(countpos , \" \", countneg , \" \",countneu)"
   ]
  },
  {
   "cell_type": "code",
   "execution_count": null,
   "metadata": {
    "id": "55UvxrBIFDy1"
   },
   "outputs": [],
   "source": [
    "bertweet_result_list = [{'POS':countpos,'NEG':countneg,'NEU':countneu}]\n",
    "\n",
    "with open(\"/content/drive/MyDrive/NLP/numbers/\"+\"cleaned_vader_total.pkl\",'wb') as f :\n",
    "  pickle.dump(bertweet_result_list,f)"
   ]
  },
  {
   "cell_type": "code",
   "execution_count": null,
   "metadata": {
    "id": "ZqyruWy7UUDf"
   },
   "outputs": [],
   "source": []
  },
  {
   "cell_type": "code",
   "execution_count": null,
   "metadata": {
    "id": "ShLzPJe7UTj8"
   },
   "outputs": [],
   "source": [
    "pathname = \"/content/drive/MyDrive/NLP/tweets/\"\n",
    "\n",
    "for filename in os.listdir(pathname):\n",
    "  with open(pathname+filename,'rb') as f:\n",
    "      tweet_list = pickle.load(f)\n",
    "\n",
    "  empty_list = []\n",
    "\n",
    "  for item in tweet_list :\n",
    "    result = sentiment_vader(item)\n",
    "    empty_list.append(result)\n",
    "\n",
    "  with open(\"/content/drive/MyDrive/NLP/vader/\"+\"labeled_\" + filename,'wb') as f :\n",
    "    pickle.dump(empty_list,f)"
   ]
  },
  {
   "cell_type": "code",
   "execution_count": null,
   "metadata": {
    "id": "cw5UpMpgIV9O"
   },
   "outputs": [],
   "source": [
    "labeled_pathname = \"/content/drive/MyDrive/NLP/vader/\"\n",
    "countpos = 0\n",
    "countneg = 0\n",
    "countneu = 0\n",
    "for item in os.listdir(labeled_pathname):\n",
    "  with open(labeled_pathname + item,'rb') as f :\n",
    "   loaded_list =  pickle.load(f)\n",
    "  for tweet in loaded_list :\n",
    "    if(tweet == \"POS\") :countpos+=1\n",
    "    if(tweet == \"NEG\") :countneg+=1\n",
    "    if(tweet == \"NEU\") :countneu+=1"
   ]
  },
  {
   "cell_type": "code",
   "execution_count": null,
   "metadata": {
    "colab": {
     "base_uri": "https://localhost:8080/"
    },
    "id": "KfY6hXQFU1JO",
    "outputId": "f676ef71-f9ff-45a5-ce37-5522146c3ae3"
   },
   "outputs": [],
   "source": [
    "print(countpos , \" \", countneg , \" \",countneu)"
   ]
  },
  {
   "cell_type": "code",
   "execution_count": null,
   "metadata": {
    "id": "8OvszqIQU7qz"
   },
   "outputs": [],
   "source": [
    "vader_result_list = [{'POS':countpos,'NEG':countneg,'NEU':countneu}]\n",
    "\n",
    "with open(\"/content/drive/MyDrive/NLP/numbers/\"+\"vader_total.pkl\",'wb') as f :\n",
    "  pickle.dump(vader_result_list,f)"
   ]
  },
  {
   "cell_type": "markdown",
   "metadata": {
    "id": "x126D1IGgT0Y"
   },
   "source": [
    "# **PLOTS**"
   ]
  },
  {
   "cell_type": "code",
   "execution_count": null,
   "metadata": {
    "colab": {
     "base_uri": "https://localhost:8080/",
     "height": 493
    },
    "id": "80rZHkrfX8Wx",
    "outputId": "166d5f3d-e26f-4ff3-cc01-ea70c89fc067"
   },
   "outputs": [],
   "source": [
    "\n",
    "\n",
    "with open(\"/content/drive/MyDrive/NLP/numbers/vader_total.pkl\",'rb') as f:\n",
    "  mylist = pickle.load(f)\n",
    "\n",
    "VADER = [mylist[0]['POS'],mylist[0]['NEG'],mylist[0]['NEU']]\n",
    "\n",
    "with open(\"/content/drive/MyDrive/NLP/numbers/bertweet_total.pkl\",'rb') as f:\n",
    "  mylist = pickle.load(f)\n",
    "\n",
    "BERT = [mylist[0]['POS'],mylist[0]['NEG'],mylist[0]['NEU']]\n",
    "\n",
    "\n",
    "\n",
    "# set width of bar\n",
    "barWidth = 0.25\n",
    "fig = plt.subplots(figsize =(10, 5))\n",
    "\n",
    "\n",
    "# Set position of bar on X axis\n",
    "br1 = np.arange(len(BERT))\n",
    "br2 = [x + barWidth for x in br1]\n",
    "\n",
    "# Make the plot\n",
    "plt.bar(br1, BERT, color ='r', width = barWidth,\n",
    "        edgecolor ='grey', label ='BERT')\n",
    "plt.bar(br2, VADER, color ='g', width = barWidth,\n",
    "        edgecolor ='grey', label ='VADER')\n",
    "\n",
    "# Adding Xticks\n",
    "plt.title(\"Raw Tweets Sentiment Analysis\")\n",
    "plt.xlabel('Labels',  fontsize = 15)\n",
    "plt.ylabel('Number of Tweets', fontsize = 15)\n",
    "plt.xticks([r + barWidth for r in range(len(BERT))],\n",
    "        ['Positive', 'Negative', 'Neutral'])\n",
    "\n",
    "\n",
    "\n",
    "plt.legend()\n",
    "plt.show()\n"
   ]
  },
  {
   "cell_type": "code",
   "execution_count": null,
   "metadata": {
    "colab": {
     "base_uri": "https://localhost:8080/",
     "height": 493
    },
    "id": "-Q7oMSQenze0",
    "outputId": "49363690-07d9-4541-a528-fcb0879f9ce2"
   },
   "outputs": [],
   "source": [
    "with open(\"/content/drive/MyDrive/NLP/numbers/cleaned_vader_total.pkl\",'rb') as f:\n",
    "  mylist = pickle.load(f)\n",
    "\n",
    "VADER = [mylist[0]['POS'],mylist[0]['NEG'],mylist[0]['NEU']]\n",
    "\n",
    "with open(\"/content/drive/MyDrive/NLP/numbers/cleaned_bertweet_total.pkl\",'rb') as f:\n",
    "  mylist = pickle.load(f)\n",
    "\n",
    "BERT = [mylist[0]['POS'],mylist[0]['NEG'],mylist[0]['NEU']]\n",
    "\n",
    "\n",
    "\n",
    "# set width of bar\n",
    "barWidth = 0.25\n",
    "fig = plt.subplots(figsize =(10, 5))\n",
    "\n",
    "\n",
    "# Set position of bar on X axis\n",
    "br1 = np.arange(len(BERT))\n",
    "br2 = [x + barWidth for x in br1]\n",
    "\n",
    "# Make the plot\n",
    "plt.bar(br1, BERT, color ='r', width = barWidth,\n",
    "        edgecolor ='grey', label ='BERT')\n",
    "plt.bar(br2, VADER, color ='g', width = barWidth,\n",
    "        edgecolor ='grey', label ='VADER')\n",
    "\n",
    "# Adding Xticks\n",
    "plt.title(\"Cleaned Tweets Sentiment Analysis\")\n",
    "plt.xlabel('Labels',  fontsize = 15)\n",
    "plt.ylabel('Number of Tweets', fontsize = 15)\n",
    "plt.xticks([r + barWidth for r in range(len(BERT))],\n",
    "        ['Positive', 'Negative', 'Neutral'])\n",
    "\n",
    "\n",
    "\n",
    "plt.legend()\n",
    "plt.show()\n"
   ]
  },
  {
   "cell_type": "code",
   "execution_count": null,
   "metadata": {
    "colab": {
     "base_uri": "https://localhost:8080/",
     "height": 493
    },
    "id": "kU7dB3iioLzE",
    "outputId": "15d3a051-bf38-4f19-b856-c7f32b6b1ee9"
   },
   "outputs": [],
   "source": [
    "with open(\"/content/drive/MyDrive/NLP/numbers/vader_total.pkl\",'rb') as f:\n",
    "  mylist = pickle.load(f)\n",
    "\n",
    "RAW = [mylist[0]['POS'],mylist[0]['NEG'],mylist[0]['NEU']]\n",
    "\n",
    "with open(\"/content/drive/MyDrive/NLP/numbers/cleaned_vader_total.pkl\",'rb') as f:\n",
    "  mylist = pickle.load(f)\n",
    "\n",
    "CLEAN = [mylist[0]['POS'],mylist[0]['NEG'],mylist[0]['NEU']]\n",
    "\n",
    "\n",
    "\n",
    "# set width of bar\n",
    "barWidth = 0.25\n",
    "fig = plt.subplots(figsize =(10, 5))\n",
    "\n",
    "\n",
    "# Set position of bar on X axis\n",
    "br1 = np.arange(len(CLEAN))\n",
    "br2 = [x + barWidth for x in br1]\n",
    "\n",
    "# Make the plot\n",
    "plt.bar(br1, CLEAN, color ='r', width = barWidth,\n",
    "        edgecolor ='grey', label ='CLEANED')\n",
    "plt.bar(br2, RAW, color ='g', width = barWidth,\n",
    "        edgecolor ='grey', label ='RAW')\n",
    "\n",
    "# Adding Xticks\n",
    "plt.title(\"Raw vs Cleaned using VADER\")\n",
    "plt.xlabel('Labels',  fontsize = 15)\n",
    "plt.ylabel('Number of Tweets', fontsize = 15)\n",
    "plt.xticks([r + barWidth for r in range(len(CLEAN))],\n",
    "        ['Positive', 'Negative', 'Neutral'])\n",
    "\n",
    "\n",
    "\n",
    "plt.legend()\n",
    "plt.show()\n"
   ]
  },
  {
   "cell_type": "code",
   "execution_count": null,
   "metadata": {
    "colab": {
     "base_uri": "https://localhost:8080/",
     "height": 493
    },
    "id": "jwBCxVXwpj-e",
    "outputId": "14f8b75a-fc46-4136-cdb9-bc210ced22e8"
   },
   "outputs": [],
   "source": [
    "with open(\"/content/drive/MyDrive/NLP/numbers/bertweet_total.pkl\",'rb') as f:\n",
    "  mylist = pickle.load(f)\n",
    "\n",
    "RAW = [mylist[0]['POS'],mylist[0]['NEG'],mylist[0]['NEU']]\n",
    "\n",
    "with open(\"/content/drive/MyDrive/NLP/numbers/cleaned_bertweet_total.pkl\",'rb') as f:\n",
    "  mylist = pickle.load(f)\n",
    "\n",
    "CLEAN = [mylist[0]['POS'],mylist[0]['NEG'],mylist[0]['NEU']]\n",
    "\n",
    "\n",
    "\n",
    "# set width of bar\n",
    "barWidth = 0.25\n",
    "fig = plt.subplots(figsize =(10, 5))\n",
    "\n",
    "\n",
    "# Set position of bar on X axis\n",
    "br1 = np.arange(len(CLEAN))\n",
    "br2 = [x + barWidth for x in br1]\n",
    "\n",
    "# Make the plot\n",
    "plt.bar(br1, CLEAN, color ='r', width = barWidth,\n",
    "        edgecolor ='grey', label ='CLEANED')\n",
    "plt.bar(br2, RAW, color ='g', width = barWidth,\n",
    "        edgecolor ='grey', label ='RAW')\n",
    "\n",
    "# Adding Xticks\n",
    "plt.title(\"Raw vs Cleaned using BERT\")\n",
    "plt.xlabel('Labels',  fontsize = 15)\n",
    "plt.ylabel('Number of Tweets', fontsize = 15)\n",
    "plt.xticks([r + barWidth for r in range(len(CLEAN))],\n",
    "        ['Positive', 'Negative', 'Neutral'])\n",
    "\n",
    "\n",
    "\n",
    "plt.legend()\n",
    "plt.show()"
   ]
  },
  {
   "cell_type": "code",
   "execution_count": null,
   "metadata": {
    "id": "KuXQ8vxwqCTb"
   },
   "outputs": [],
   "source": [
    "labeled_pathname = \"/content/drive/MyDrive/NLP/cleaned_vader/\"\n",
    "countpos = 0\n",
    "countneg = 0\n",
    "countneu = 0\n",
    "for item in os.listdir(labeled_pathname):\n",
    "  if(item.endswith(\"non-rumours.pkl\")): continue;\n",
    "  with open(labeled_pathname + item,'rb') as f :\n",
    "   loaded_list =  pickle.load(f)\n",
    "  for tweet in loaded_list :\n",
    "    if(tweet == \"POS\") :countpos+=1\n",
    "    if(tweet == \"NEG\") :countneg+=1\n",
    "    if(tweet == \"NEU\") :countneu+=1"
   ]
  },
  {
   "cell_type": "code",
   "execution_count": null,
   "metadata": {
    "id": "yKyEadE1v7tN"
   },
   "outputs": [],
   "source": [
    "vader_result_list = [{'POS':countpos,'NEG':countneg,'NEU':countneu}]\n",
    "\n",
    "with open(\"/content/drive/MyDrive/NLP/numbers/\"+\"cleaned_vader_rumour.pkl\",'wb') as f :\n",
    "  pickle.dump(vader_result_list,f)"
   ]
  },
  {
   "cell_type": "code",
   "execution_count": null,
   "metadata": {
    "id": "ntyc4VyKxIXr"
   },
   "outputs": [],
   "source": [
    "labeled_pathname = \"/content/drive/MyDrive/NLP/cleaned_vader/\"\n",
    "countpos = 0\n",
    "countneg = 0\n",
    "countneu = 0\n",
    "for item in os.listdir(labeled_pathname):\n",
    "  if(item.endswith(\"non-rumours.pkl\")):\n",
    "    with open(labeled_pathname + item,'rb') as f :\n",
    "     loaded_list =  pickle.load(f)\n",
    "    for tweet in loaded_list :\n",
    "      if(tweet == \"POS\") :countpos+=1\n",
    "      if(tweet == \"NEG\") :countneg+=1\n",
    "      if(tweet == \"NEU\") :countneu+=1"
   ]
  },
  {
   "cell_type": "code",
   "execution_count": null,
   "metadata": {
    "colab": {
     "base_uri": "https://localhost:8080/"
    },
    "id": "iXRI7BdzxcDi",
    "outputId": "057ebc35-bd99-409e-b640-01b531171c49"
   },
   "outputs": [],
   "source": [
    "print(countpos , \" \", countneg , \" \",countneu)"
   ]
  },
  {
   "cell_type": "code",
   "execution_count": null,
   "metadata": {
    "id": "b4hEs9L-xmqG"
   },
   "outputs": [],
   "source": [
    "vader_result_list = [{'POS':countpos,'NEG':countneg,'NEU':countneu}]\n",
    "\n",
    "with open(\"/content/drive/MyDrive/NLP/numbers/\"+\"cleaned_vader_non_rumour.pkl\",'wb') as f :\n",
    "  pickle.dump(vader_result_list,f)"
   ]
  },
  {
   "cell_type": "code",
   "execution_count": null,
   "metadata": {
    "colab": {
     "base_uri": "https://localhost:8080/",
     "height": 493
    },
    "id": "LmtVkNxuydP2",
    "outputId": "402c1504-4ccc-438b-bf60-2c47a81190bc"
   },
   "outputs": [],
   "source": [
    "with open(\"/content/drive/MyDrive/NLP/numbers/cleaned_vader_rumour.pkl\",'rb') as f:\n",
    "  mylist = pickle.load(f)\n",
    "\n",
    "RUMOUR = [mylist[0]['POS'],mylist[0]['NEG'],mylist[0]['NEU']]\n",
    "\n",
    "RUMOUR_SUM = sum(RUMOUR)\n",
    "\n",
    "RUMOUR = [num / RUMOUR_SUM for num in RUMOUR]\n",
    "RUMOUR = [num*100 for num in RUMOUR]\n",
    "\n",
    "with open(\"/content/drive/MyDrive/NLP/numbers/cleaned_vader_non_rumour.pkl\",'rb') as f:\n",
    "  mylist = pickle.load(f)\n",
    "\n",
    "NONRUMOUR = [mylist[0]['POS'],mylist[0]['NEG'],mylist[0]['NEU']]\n",
    "\n",
    "NONRUMOUR_SUM = sum(NONRUMOUR)\n",
    "\n",
    "NONRUMOUR = [num / NONRUMOUR_SUM for num in NONRUMOUR]\n",
    "NONRUMOUR = [num*100 for num in NONRUMOUR]\n",
    "\n",
    "# set width of bar\n",
    "barWidth = 0.25\n",
    "fig = plt.subplots(figsize =(10, 5))\n",
    "\n",
    "\n",
    "# Set position of bar on X axis\n",
    "br1 = np.arange(len(NONRUMOUR))\n",
    "br2 = [x + barWidth for x in br1]\n",
    "\n",
    "# Make the plot\n",
    "plt.bar(br1, NONRUMOUR, color ='r', width = barWidth,\n",
    "        edgecolor ='grey', label ='NON-RUMOUR')\n",
    "plt.bar(br2, RUMOUR, color ='g', width = barWidth,\n",
    "        edgecolor ='grey', label ='RUMOUR')\n",
    "\n",
    "# Adding Xticks\n",
    "plt.title(\"Rumour vs Non-Rumour using VADER\")\n",
    "plt.xlabel('Labels',  fontsize = 15)\n",
    "plt.ylabel('Number of Tweets in %', fontsize = 15)\n",
    "plt.xticks([r + barWidth for r in range(len(NONRUMOUR))],\n",
    "        ['Positive', 'Negative', 'Neutral'])\n",
    "\n",
    "\n",
    "\n",
    "plt.legend()\n",
    "plt.show()"
   ]
  },
  {
   "cell_type": "markdown",
   "metadata": {
    "id": "MVeCDicL0cxW"
   },
   "source": [
    "# **rumour vs non rumour using bert**"
   ]
  },
  {
   "cell_type": "code",
   "execution_count": null,
   "metadata": {
    "id": "LuLwFHYD0ZMj"
   },
   "outputs": [],
   "source": [
    "labeled_pathname = \"/content/drive/MyDrive/NLP/cleaned_bertweet/\"\n",
    "countpos = 0\n",
    "countneg = 0\n",
    "countneu = 0\n",
    "for item in os.listdir(labeled_pathname):\n",
    "  if(item.endswith(\"non-rumours.pkl\")): continue;\n",
    "  with open(labeled_pathname + item,'rb') as f :\n",
    "   loaded_list =  pickle.load(f)\n",
    "  for tweet in loaded_list :\n",
    "    if(tweet['label'] == \"POS\") :countpos+=1\n",
    "    if(tweet['label'] == \"NEG\") :countneg+=1\n",
    "    if(tweet['label'] == \"NEU\") :countneu+=1"
   ]
  },
  {
   "cell_type": "code",
   "execution_count": null,
   "metadata": {
    "colab": {
     "base_uri": "https://localhost:8080/"
    },
    "id": "4zfCJ9Qo1fP3",
    "outputId": "22b92d8b-55e9-4e1a-abc7-f60ec166e7fd"
   },
   "outputs": [],
   "source": [
    "print(countpos , \" \", countneg , \" \",countneu)"
   ]
  },
  {
   "cell_type": "code",
   "execution_count": null,
   "metadata": {
    "id": "a1nf7Drg0ZMj"
   },
   "outputs": [],
   "source": [
    "vader_result_list = [{'POS':countpos,'NEG':countneg,'NEU':countneu}]\n",
    "\n",
    "with open(\"/content/drive/MyDrive/NLP/numbers/\"+\"cleaned_bertweet_rumour.pkl\",'wb') as f :\n",
    "  pickle.dump(vader_result_list,f)"
   ]
  },
  {
   "cell_type": "code",
   "execution_count": null,
   "metadata": {
    "id": "qW4EyK-w0ZMj"
   },
   "outputs": [],
   "source": [
    "labeled_pathname = \"/content/drive/MyDrive/NLP/cleaned_bertweet/\"\n",
    "countpos = 0\n",
    "countneg = 0\n",
    "countneu = 0\n",
    "for item in os.listdir(labeled_pathname):\n",
    "  if(item.endswith(\"non-rumours.pkl\")):\n",
    "    with open(labeled_pathname + item,'rb') as f :\n",
    "     loaded_list =  pickle.load(f)\n",
    "    for tweet in loaded_list :\n",
    "      if(tweet['label'] == \"POS\") :countpos+=1\n",
    "      if(tweet['label'] == \"NEG\") :countneg+=1\n",
    "      if(tweet['label'] == \"NEU\") :countneu+=1"
   ]
  },
  {
   "cell_type": "code",
   "execution_count": null,
   "metadata": {
    "colab": {
     "base_uri": "https://localhost:8080/"
    },
    "id": "V97i8KI-0ZMj",
    "outputId": "d8a197e9-829b-4aec-920a-119c4ded5bac"
   },
   "outputs": [],
   "source": [
    "print(countpos , \" \", countneg , \" \",countneu)"
   ]
  },
  {
   "cell_type": "code",
   "execution_count": null,
   "metadata": {
    "id": "0LtaFJTX0ZMk"
   },
   "outputs": [],
   "source": [
    "vader_result_list = [{'POS':countpos,'NEG':countneg,'NEU':countneu}]\n",
    "\n",
    "with open(\"/content/drive/MyDrive/NLP/numbers/\"+\"cleaned_bertweet_non_rumour.pkl\",'wb') as f :\n",
    "  pickle.dump(vader_result_list,f)"
   ]
  },
  {
   "cell_type": "code",
   "execution_count": null,
   "metadata": {
    "colab": {
     "base_uri": "https://localhost:8080/",
     "height": 493
    },
    "id": "eDHGrEhP0ZMl",
    "outputId": "088cbd4d-5704-42f1-b5ef-2aef3f072c8e"
   },
   "outputs": [],
   "source": [
    "with open(\"/content/drive/MyDrive/NLP/numbers/cleaned_bertweet_rumour.pkl\",'rb') as f:\n",
    "  mylist = pickle.load(f)\n",
    "\n",
    "RUMOUR = [mylist[0]['POS'],mylist[0]['NEG'],mylist[0]['NEU']]\n",
    "\n",
    "with open(\"/content/drive/MyDrive/NLP/numbers/cleaned_bertweet_non_rumour.pkl\",'rb') as f:\n",
    "  mylist = pickle.load(f)\n",
    "\n",
    "NONRUMOUR = [mylist[0]['POS'],mylist[0]['NEG'],mylist[0]['NEU']]\n",
    "\n",
    "\n",
    "RUMOUR_SUM = sum(RUMOUR)\n",
    "RUMOUR = [num / RUMOUR_SUM for num in RUMOUR]\n",
    "RUMOUR = [num*100 for num in RUMOUR]\n",
    "\n",
    "NONRUMOUR_SUM = sum(NONRUMOUR)\n",
    "NONRUMOUR = [num / NONRUMOUR_SUM for num in NONRUMOUR]\n",
    "NONRUMOUR = [num*100 for num in NONRUMOUR]\n",
    "\n",
    "\n",
    "# set width of bar\n",
    "barWidth = 0.25\n",
    "fig = plt.subplots(figsize =(10, 5))\n",
    "\n",
    "\n",
    "# Set position of bar on X axis\n",
    "br1 = np.arange(len(NONRUMOUR))\n",
    "br2 = [x + barWidth for x in br1]\n",
    "\n",
    "# Make the plot\n",
    "plt.bar(br1, NONRUMOUR, color ='r', width = barWidth,\n",
    "        edgecolor ='grey', label ='NON-RUMOUR')\n",
    "plt.bar(br2, RUMOUR, color ='g', width = barWidth,\n",
    "        edgecolor ='grey', label ='RUMOUR')\n",
    "\n",
    "# Adding Xticks\n",
    "plt.title(\"Rumour vs Non-Rumour using BERT\")\n",
    "plt.xlabel('Labels',  fontsize = 15)\n",
    "plt.ylabel('Number of Tweets in %', fontsize = 15)\n",
    "plt.xticks([r + barWidth for r in range(len(NONRUMOUR))],\n",
    "        ['Positive', 'Negative', 'Neutral'])\n",
    "\n",
    "\n",
    "\n",
    "plt.legend()\n",
    "plt.show()"
   ]
  },
  {
   "cell_type": "code",
   "execution_count": null,
   "metadata": {
    "colab": {
     "base_uri": "https://localhost:8080/",
     "height": 493
    },
    "id": "Zu6t7vkW5KBT",
    "outputId": "bb24e63d-ac9b-4913-f705-cd92f241a1e6"
   },
   "outputs": [],
   "source": [
    "with open(\"/content/drive/MyDrive/NLP/numbers/cleaned_vader_rumour.pkl\",'rb') as f:\n",
    "  mylist = pickle.load(f)\n",
    "\n",
    "VADER = [mylist[0]['POS'],mylist[0]['NEG'],mylist[0]['NEU']]\n",
    "\n",
    "with open(\"/content/drive/MyDrive/NLP/numbers/cleaned_bertweet_rumour.pkl\",'rb') as f:\n",
    "  mylist = pickle.load(f)\n",
    "\n",
    "BERT = [mylist[0]['POS'],mylist[0]['NEG'],mylist[0]['NEU']]\n",
    "\n",
    "\n",
    "\n",
    "# set width of bar\n",
    "barWidth = 0.25\n",
    "fig = plt.subplots(figsize =(10, 5))\n",
    "\n",
    "\n",
    "# Set position of bar on X axis\n",
    "br1 = np.arange(len(BERT))\n",
    "br2 = [x + barWidth for x in br1]\n",
    "\n",
    "# Make the plot\n",
    "plt.bar(br1, BERT, color ='r', width = barWidth,\n",
    "        edgecolor ='grey', label ='BERT')\n",
    "plt.bar(br2, VADER, color ='g', width = barWidth,\n",
    "        edgecolor ='grey', label ='VADER')\n",
    "\n",
    "# Adding Xticks\n",
    "plt.title(\"Rumour Tweets Sentiment Analysis\")\n",
    "plt.xlabel('Labels',  fontsize = 15)\n",
    "plt.ylabel('Number of Tweets', fontsize = 15)\n",
    "plt.xticks([r + barWidth for r in range(len(BERT))],\n",
    "        ['Positive', 'Negative', 'Neutral'])\n",
    "\n",
    "\n",
    "\n",
    "plt.legend()\n",
    "plt.show()"
   ]
  },
  {
   "cell_type": "code",
   "execution_count": null,
   "metadata": {
    "colab": {
     "base_uri": "https://localhost:8080/",
     "height": 493
    },
    "id": "Kiw3lbb55hxA",
    "outputId": "36a969e9-5944-4472-8cc1-2595e91b09b7"
   },
   "outputs": [],
   "source": [
    "with open(\"/content/drive/MyDrive/NLP/numbers/cleaned_vader_non_rumour.pkl\",'rb') as f:\n",
    "  mylist = pickle.load(f)\n",
    "\n",
    "VADER = [mylist[0]['POS'],mylist[0]['NEG'],mylist[0]['NEU']]\n",
    "\n",
    "with open(\"/content/drive/MyDrive/NLP/numbers/cleaned_bertweet_non_rumour.pkl\",'rb') as f:\n",
    "  mylist = pickle.load(f)\n",
    "\n",
    "BERT = [mylist[0]['POS'],mylist[0]['NEG'],mylist[0]['NEU']]\n",
    "\n",
    "\n",
    "\n",
    "# set width of bar\n",
    "barWidth = 0.25\n",
    "fig = plt.subplots(figsize =(10, 5))\n",
    "\n",
    "\n",
    "# Set position of bar on X axis\n",
    "br1 = np.arange(len(BERT))\n",
    "br2 = [x + barWidth for x in br1]\n",
    "\n",
    "# Make the plot\n",
    "plt.bar(br1, BERT, color ='r', width = barWidth,\n",
    "        edgecolor ='grey', label ='BERT')\n",
    "plt.bar(br2, VADER, color ='g', width = barWidth,\n",
    "        edgecolor ='grey', label ='VADER')\n",
    "\n",
    "# Adding Xticks\n",
    "plt.title(\"Non-Rumour Tweets Sentiment Analysis\")\n",
    "plt.xlabel('Labels',  fontsize = 15)\n",
    "plt.ylabel('Number of Tweets', fontsize = 15)\n",
    "plt.xticks([r + barWidth for r in range(len(BERT))],\n",
    "        ['Positive', 'Negative', 'Neutral'])\n",
    "\n",
    "\n",
    "\n",
    "plt.legend()\n",
    "plt.show()"
   ]
  },
  {
   "cell_type": "code",
   "execution_count": null,
   "metadata": {
    "id": "jH7KkaoODTJm"
   },
   "outputs": [],
   "source": [
    "labeled_pathname = \"/content/drive/MyDrive/NLP/cleaned_bertweet/\"\n",
    "count = 0\n",
    "for item in os.listdir(labeled_pathname):\n",
    "    if(item.endswith(\"non-rumours.pkl\")): continue;\n",
    "    with open(labeled_pathname + item,'rb') as f :\n",
    "     loaded_list =  pickle.load(f)\n",
    "    for tweet in loaded_list :\n",
    "      count+=1"
   ]
  },
  {
   "cell_type": "code",
   "execution_count": null,
   "metadata": {
    "colab": {
     "base_uri": "https://localhost:8080/"
    },
    "id": "B7VSnaZEgW8C",
    "outputId": "4c5013d4-f7f3-4bfb-8fb9-a51dcb77231b"
   },
   "outputs": [],
   "source": [
    "with open('/content/drive/MyDrive/NLP/numbers/bertweet_total.pkl','rb') as f :\n",
    "  my_list = pickle.load(f)\n",
    "\n",
    "my_list"
   ]
  },
  {
   "cell_type": "code",
   "execution_count": null,
   "metadata": {
    "id": "XbpqoWd_WL_7"
   },
   "outputs": [],
   "source": [
    "labeled_pathname = \"/content/drive/MyDrive/NLP/bertweet/\"\n",
    "countpos = 0\n",
    "countneg = 0\n",
    "countneu = 0\n",
    "for item in os.listdir(labeled_pathname):\n",
    "    if(item.endswith(\"non-rumours.pkl\")): continue\n",
    "    with open(labeled_pathname + item,'rb') as f :\n",
    "     loaded_list =  pickle.load(f)\n",
    "    for tweet in loaded_list :\n",
    "      if(tweet['label'] == \"POS\") :countpos+=1\n",
    "      if(tweet['label'] == \"NEG\") :countneg+=1\n",
    "      if(tweet['label'] == \"NEU\") :countneu+=1"
   ]
  },
  {
   "cell_type": "code",
   "execution_count": null,
   "metadata": {
    "colab": {
     "base_uri": "https://localhost:8080/"
    },
    "id": "VWqFE1H5WL_8",
    "outputId": "85cfe96f-7e60-4045-ed5a-a29dad792fd8"
   },
   "outputs": [],
   "source": [
    "print(countpos , \" \", countneg , \" \",countneu)"
   ]
  },
  {
   "cell_type": "code",
   "execution_count": null,
   "metadata": {
    "id": "c8tVMUlAWL_8"
   },
   "outputs": [],
   "source": [
    "vader_result_list = [{'POS':countpos,'NEG':countneg,'NEU':countneu}]\n",
    "\n",
    "with open(\"/content/drive/MyDrive/NLP/numbers/\"+\"bertweet_rumour.pkl\",'wb') as f :\n",
    "  pickle.dump(vader_result_list,f)"
   ]
  },
  {
   "cell_type": "markdown",
   "metadata": {
    "id": "EryTn45irdbs"
   },
   "source": [
    "MAKING CSV"
   ]
  },
  {
   "cell_type": "code",
   "execution_count": null,
   "metadata": {
    "colab": {
     "base_uri": "https://localhost:8080/"
    },
    "id": "WUfCX7j9rhOk",
    "outputId": "eedbed10-c2ef-4699-c700-0f88a16e0578"
   },
   "outputs": [],
   "source": [
    "for filename in os.listdir(\"/content/drive/MyDrive/NLP/pheme-rnr-dataset/ferguson/non-rumours\") :\n",
    "    print(filename)\n",
    "    foldername = os.path.join(\"/content/drive/MyDrive/NLP/pheme-rnr-dataset/ferguson/non-rumours/\",filename)\n",
    "    for item in os.listdir(foldername):\n",
    "      sourcefolder =  os.path.join(foldername,item)\n",
    "      for item2 in os.listdir(sourcefolder):\n",
    "         json_file_path = os.path.join(sourcefolder,item2)\n",
    "         print(item2)\n",
    "         with open(json_file_path,\"r\")as file:\n",
    "\n",
    "            data = json.load(file)\n",
    "\n",
    "\n",
    "    break;\n",
    "\n",
    "print(data)"
   ]
  },
  {
   "cell_type": "code",
   "execution_count": null,
   "metadata": {
    "id": "jTcAahHE6ARV"
   },
   "outputs": [],
   "source": [
    "dataset = \"/content/drive/MyDrive/NLP/pheme-rnr-dataset\"\n",
    "\n",
    "headers = {\n",
    "    'news': ['test'],\n",
    "    'tweet_id': ['test'],\n",
    "    'tweet_text': ['test'],\n",
    "    'category': ['test'],\n",
    "    'sentiment': [0]\n",
    "}\n",
    "\n",
    "df = pd.DataFrame(headers)\n",
    "df['tweet_id'] = df['tweet_id'].astype(str)\n",
    "\n",
    "\n",
    "for author in os.listdir(dataset):\n",
    "  authorfolder = os.path.join(dataset,author)\n",
    "\n",
    "  for category in os.listdir(authorfolder):\n",
    "\n",
    "    with open('/content/drive/MyDrive/NLP/cleaned_tweets/' + author + '_' + category + '.pkl','rb') as f :\n",
    "                 tweet_text = pickle.load(f)\n",
    "\n",
    "    with open('/content/drive/MyDrive/NLP/cleaned_bertweet/' +'labeled_' + author + '_' + category + '.pkl','rb') as f :\n",
    "                 label_list = pickle.load(f)\n",
    "\n",
    "    labels = []\n",
    "    for item in label_list :\n",
    "      a = 0\n",
    "      if(item['label'] == 'POS') : a = 1\n",
    "      elif(item['label'] == 'NEG') : a = -1\n",
    "      else : a = 0\n",
    "      labels.append(a)\n",
    "\n",
    "\n",
    "    tweet_id = []\n",
    "    authorlist = []\n",
    "    categorylist = []\n",
    "\n",
    "    categoryfolder = os.path.join(authorfolder,category)\n",
    "    for tweetnum in os.listdir(categoryfolder):\n",
    "      tweet_id.append(str(tweetnum))\n",
    "      authorlist.append(author)\n",
    "      categorylist.append(category)\n",
    "\n",
    "    df1 = pd.DataFrame()\n",
    "    df1['news']=authorlist\n",
    "    df1['tweet_id'] = tweet_id\n",
    "    df1['tweet_text'] =   tweet_text\n",
    "    df1['category'] =  categorylist\n",
    "    df1['sentiment'] =  labels\n",
    "\n",
    "    df = pd.concat([df,df1],ignore_index = True)\n",
    "\n",
    "\n",
    "\n",
    "\n",
    "\n",
    "\n",
    "\n"
   ]
  },
  {
   "cell_type": "code",
   "execution_count": 51,
   "metadata": {
    "colab": {
     "base_uri": "https://localhost:8080/",
     "height": 423
    },
    "collapsed": true,
    "id": "2s4GYXJcIeXQ",
    "jupyter": {
     "outputs_hidden": true
    },
    "outputId": "a483e4f5-6cba-4a0b-de57-5f59f0a5daaa"
   },
   "outputs": [
    {
     "data": {
      "text/html": [
       "\n",
       "\n",
       "  <div id=\"df-971543bc-3899-44f4-a624-f0042f67db34\">\n",
       "    <div class=\"colab-df-container\">\n",
       "      <div>\n",
       "<style scoped>\n",
       "    .dataframe tbody tr th:only-of-type {\n",
       "        vertical-align: middle;\n",
       "    }\n",
       "\n",
       "    .dataframe tbody tr th {\n",
       "        vertical-align: top;\n",
       "    }\n",
       "\n",
       "    .dataframe thead th {\n",
       "        text-align: right;\n",
       "    }\n",
       "</style>\n",
       "<table border=\"1\" class=\"dataframe\">\n",
       "  <thead>\n",
       "    <tr style=\"text-align: right;\">\n",
       "      <th></th>\n",
       "      <th>news</th>\n",
       "      <th>tweet_id</th>\n",
       "      <th>tweet_text</th>\n",
       "      <th>category</th>\n",
       "      <th>sentiment</th>\n",
       "    </tr>\n",
       "  </thead>\n",
       "  <tbody>\n",
       "    <tr>\n",
       "      <th>0</th>\n",
       "      <td>test</td>\n",
       "      <td>test</td>\n",
       "      <td>test</td>\n",
       "      <td>test</td>\n",
       "      <td>0</td>\n",
       "    </tr>\n",
       "    <tr>\n",
       "      <th>1</th>\n",
       "      <td>ferguson</td>\n",
       "      <td>500249081286250496</td>\n",
       "      <td>protesters march peacefully alongside state tr...</td>\n",
       "      <td>non-rumours</td>\n",
       "      <td>0</td>\n",
       "    </tr>\n",
       "    <tr>\n",
       "      <th>2</th>\n",
       "      <td>ferguson</td>\n",
       "      <td>499607500187250689</td>\n",
       "      <td>again, please don't go to *unless* you want yo...</td>\n",
       "      <td>non-rumours</td>\n",
       "      <td>-1</td>\n",
       "    </tr>\n",
       "    <tr>\n",
       "      <th>3</th>\n",
       "      <td>ferguson</td>\n",
       "      <td>498482619232055296</td>\n",
       "      <td>\"don't shoot! don't shoot!\"</td>\n",
       "      <td>non-rumours</td>\n",
       "      <td>-1</td>\n",
       "    </tr>\n",
       "    <tr>\n",
       "      <th>4</th>\n",
       "      <td>ferguson</td>\n",
       "      <td>500261600579043328</td>\n",
       "      <td>powerful, disturbing advice from the humans in...</td>\n",
       "      <td>non-rumours</td>\n",
       "      <td>0</td>\n",
       "    </tr>\n",
       "    <tr>\n",
       "      <th>...</th>\n",
       "      <td>...</td>\n",
       "      <td>...</td>\n",
       "      <td>...</td>\n",
       "      <td>...</td>\n",
       "      <td>...</td>\n",
       "    </tr>\n",
       "    <tr>\n",
       "      <th>5798</th>\n",
       "      <td>charliehebdo</td>\n",
       "      <td>552836844560609281</td>\n",
       "      <td>counter terrorism expert colonel mike dewar sa...</td>\n",
       "      <td>non-rumours</td>\n",
       "      <td>0</td>\n",
       "    </tr>\n",
       "    <tr>\n",
       "      <th>5799</th>\n",
       "      <td>charliehebdo</td>\n",
       "      <td>552845654637436928</td>\n",
       "      <td>get the cover on the front page of all our new...</td>\n",
       "      <td>non-rumours</td>\n",
       "      <td>1</td>\n",
       "    </tr>\n",
       "    <tr>\n",
       "      <th>5800</th>\n",
       "      <td>charliehebdo</td>\n",
       "      <td>553546878902861825</td>\n",
       "      <td>french police release pic of two suspects from...</td>\n",
       "      <td>non-rumours</td>\n",
       "      <td>0</td>\n",
       "    </tr>\n",
       "    <tr>\n",
       "      <th>5801</th>\n",
       "      <td>charliehebdo</td>\n",
       "      <td>552808785329549313</td>\n",
       "      <td>french media says cartoonist behind original p...</td>\n",
       "      <td>non-rumours</td>\n",
       "      <td>-1</td>\n",
       "    </tr>\n",
       "    <tr>\n",
       "      <th>5802</th>\n",
       "      <td>charliehebdo</td>\n",
       "      <td>552817061203050496</td>\n",
       "      <td>video posted online appears to show gunmen fle...</td>\n",
       "      <td>non-rumours</td>\n",
       "      <td>-1</td>\n",
       "    </tr>\n",
       "  </tbody>\n",
       "</table>\n",
       "<p>5803 rows × 5 columns</p>\n",
       "</div>\n",
       "      <button class=\"colab-df-convert\" onclick=\"convertToInteractive('df-971543bc-3899-44f4-a624-f0042f67db34')\"\n",
       "              title=\"Convert this dataframe to an interactive table.\"\n",
       "              style=\"display:none;\">\n",
       "\n",
       "  <svg xmlns=\"http://www.w3.org/2000/svg\" height=\"24px\"viewBox=\"0 0 24 24\"\n",
       "       width=\"24px\">\n",
       "    <path d=\"M0 0h24v24H0V0z\" fill=\"none\"/>\n",
       "    <path d=\"M18.56 5.44l.94 2.06.94-2.06 2.06-.94-2.06-.94-.94-2.06-.94 2.06-2.06.94zm-11 1L8.5 8.5l.94-2.06 2.06-.94-2.06-.94L8.5 2.5l-.94 2.06-2.06.94zm10 10l.94 2.06.94-2.06 2.06-.94-2.06-.94-.94-2.06-.94 2.06-2.06.94z\"/><path d=\"M17.41 7.96l-1.37-1.37c-.4-.4-.92-.59-1.43-.59-.52 0-1.04.2-1.43.59L10.3 9.45l-7.72 7.72c-.78.78-.78 2.05 0 2.83L4 21.41c.39.39.9.59 1.41.59.51 0 1.02-.2 1.41-.59l7.78-7.78 2.81-2.81c.8-.78.8-2.07 0-2.86zM5.41 20L4 18.59l7.72-7.72 1.47 1.35L5.41 20z\"/>\n",
       "  </svg>\n",
       "      </button>\n",
       "\n",
       "\n",
       "\n",
       "    <div id=\"df-1282305d-7322-4a4a-aa74-64d5b5038bc1\">\n",
       "      <button class=\"colab-df-quickchart\" onclick=\"quickchart('df-1282305d-7322-4a4a-aa74-64d5b5038bc1')\"\n",
       "              title=\"Suggest charts.\"\n",
       "              style=\"display:none;\">\n",
       "\n",
       "<svg xmlns=\"http://www.w3.org/2000/svg\" height=\"24px\"viewBox=\"0 0 24 24\"\n",
       "     width=\"24px\">\n",
       "    <g>\n",
       "        <path d=\"M19 3H5c-1.1 0-2 .9-2 2v14c0 1.1.9 2 2 2h14c1.1 0 2-.9 2-2V5c0-1.1-.9-2-2-2zM9 17H7v-7h2v7zm4 0h-2V7h2v10zm4 0h-2v-4h2v4z\"/>\n",
       "    </g>\n",
       "</svg>\n",
       "      </button>\n",
       "    </div>\n",
       "\n",
       "<style>\n",
       "  .colab-df-quickchart {\n",
       "    background-color: #E8F0FE;\n",
       "    border: none;\n",
       "    border-radius: 50%;\n",
       "    cursor: pointer;\n",
       "    display: none;\n",
       "    fill: #1967D2;\n",
       "    height: 32px;\n",
       "    padding: 0 0 0 0;\n",
       "    width: 32px;\n",
       "  }\n",
       "\n",
       "  .colab-df-quickchart:hover {\n",
       "    background-color: #E2EBFA;\n",
       "    box-shadow: 0px 1px 2px rgba(60, 64, 67, 0.3), 0px 1px 3px 1px rgba(60, 64, 67, 0.15);\n",
       "    fill: #174EA6;\n",
       "  }\n",
       "\n",
       "  [theme=dark] .colab-df-quickchart {\n",
       "    background-color: #3B4455;\n",
       "    fill: #D2E3FC;\n",
       "  }\n",
       "\n",
       "  [theme=dark] .colab-df-quickchart:hover {\n",
       "    background-color: #434B5C;\n",
       "    box-shadow: 0px 1px 3px 1px rgba(0, 0, 0, 0.15);\n",
       "    filter: drop-shadow(0px 1px 2px rgba(0, 0, 0, 0.3));\n",
       "    fill: #FFFFFF;\n",
       "  }\n",
       "</style>\n",
       "\n",
       "    <script>\n",
       "      async function quickchart(key) {\n",
       "        const containerElement = document.querySelector('#' + key);\n",
       "        const charts = await google.colab.kernel.invokeFunction(\n",
       "            'suggestCharts', [key], {});\n",
       "      }\n",
       "    </script>\n",
       "\n",
       "      <script>\n",
       "\n",
       "function displayQuickchartButton(domScope) {\n",
       "  let quickchartButtonEl =\n",
       "    domScope.querySelector('#df-1282305d-7322-4a4a-aa74-64d5b5038bc1 button.colab-df-quickchart');\n",
       "  quickchartButtonEl.style.display =\n",
       "    google.colab.kernel.accessAllowed ? 'block' : 'none';\n",
       "}\n",
       "\n",
       "        displayQuickchartButton(document);\n",
       "      </script>\n",
       "      <style>\n",
       "    .colab-df-container {\n",
       "      display:flex;\n",
       "      flex-wrap:wrap;\n",
       "      gap: 12px;\n",
       "    }\n",
       "\n",
       "    .colab-df-convert {\n",
       "      background-color: #E8F0FE;\n",
       "      border: none;\n",
       "      border-radius: 50%;\n",
       "      cursor: pointer;\n",
       "      display: none;\n",
       "      fill: #1967D2;\n",
       "      height: 32px;\n",
       "      padding: 0 0 0 0;\n",
       "      width: 32px;\n",
       "    }\n",
       "\n",
       "    .colab-df-convert:hover {\n",
       "      background-color: #E2EBFA;\n",
       "      box-shadow: 0px 1px 2px rgba(60, 64, 67, 0.3), 0px 1px 3px 1px rgba(60, 64, 67, 0.15);\n",
       "      fill: #174EA6;\n",
       "    }\n",
       "\n",
       "    [theme=dark] .colab-df-convert {\n",
       "      background-color: #3B4455;\n",
       "      fill: #D2E3FC;\n",
       "    }\n",
       "\n",
       "    [theme=dark] .colab-df-convert:hover {\n",
       "      background-color: #434B5C;\n",
       "      box-shadow: 0px 1px 3px 1px rgba(0, 0, 0, 0.15);\n",
       "      filter: drop-shadow(0px 1px 2px rgba(0, 0, 0, 0.3));\n",
       "      fill: #FFFFFF;\n",
       "    }\n",
       "  </style>\n",
       "\n",
       "      <script>\n",
       "        const buttonEl =\n",
       "          document.querySelector('#df-971543bc-3899-44f4-a624-f0042f67db34 button.colab-df-convert');\n",
       "        buttonEl.style.display =\n",
       "          google.colab.kernel.accessAllowed ? 'block' : 'none';\n",
       "\n",
       "        async function convertToInteractive(key) {\n",
       "          const element = document.querySelector('#df-971543bc-3899-44f4-a624-f0042f67db34');\n",
       "          const dataTable =\n",
       "            await google.colab.kernel.invokeFunction('convertToInteractive',\n",
       "                                                     [key], {});\n",
       "          if (!dataTable) return;\n",
       "\n",
       "          const docLinkHtml = 'Like what you see? Visit the ' +\n",
       "            '<a target=\"_blank\" href=https://colab.research.google.com/notebooks/data_table.ipynb>data table notebook</a>'\n",
       "            + ' to learn more about interactive tables.';\n",
       "          element.innerHTML = '';\n",
       "          dataTable['output_type'] = 'display_data';\n",
       "          await google.colab.output.renderOutput(dataTable, element);\n",
       "          const docLink = document.createElement('div');\n",
       "          docLink.innerHTML = docLinkHtml;\n",
       "          element.appendChild(docLink);\n",
       "        }\n",
       "      </script>\n",
       "    </div>\n",
       "  </div>\n"
      ],
      "text/plain": [
       "              news            tweet_id  \\\n",
       "0             test                test   \n",
       "1         ferguson  500249081286250496   \n",
       "2         ferguson  499607500187250689   \n",
       "3         ferguson  498482619232055296   \n",
       "4         ferguson  500261600579043328   \n",
       "...            ...                 ...   \n",
       "5798  charliehebdo  552836844560609281   \n",
       "5799  charliehebdo  552845654637436928   \n",
       "5800  charliehebdo  553546878902861825   \n",
       "5801  charliehebdo  552808785329549313   \n",
       "5802  charliehebdo  552817061203050496   \n",
       "\n",
       "                                             tweet_text     category  \\\n",
       "0                                                  test         test   \n",
       "1     protesters march peacefully alongside state tr...  non-rumours   \n",
       "2     again, please don't go to *unless* you want yo...  non-rumours   \n",
       "3                           \"don't shoot! don't shoot!\"  non-rumours   \n",
       "4     powerful, disturbing advice from the humans in...  non-rumours   \n",
       "...                                                 ...          ...   \n",
       "5798  counter terrorism expert colonel mike dewar sa...  non-rumours   \n",
       "5799  get the cover on the front page of all our new...  non-rumours   \n",
       "5800  french police release pic of two suspects from...  non-rumours   \n",
       "5801  french media says cartoonist behind original p...  non-rumours   \n",
       "5802  video posted online appears to show gunmen fle...  non-rumours   \n",
       "\n",
       "      sentiment  \n",
       "0             0  \n",
       "1             0  \n",
       "2            -1  \n",
       "3            -1  \n",
       "4             0  \n",
       "...         ...  \n",
       "5798          0  \n",
       "5799          1  \n",
       "5800          0  \n",
       "5801         -1  \n",
       "5802         -1  \n",
       "\n",
       "[5803 rows x 5 columns]"
      ]
     },
     "execution_count": 51,
     "metadata": {},
     "output_type": "execute_result"
    }
   ],
   "source": [
    "df"
   ]
  },
  {
   "cell_type": "code",
   "execution_count": null,
   "metadata": {
    "colab": {
     "base_uri": "https://localhost:8080/",
     "height": 235
    },
    "id": "iiwChpwWIraO",
    "outputId": "3630947d-40f3-4a42-f451-42ae10ec7113"
   },
   "outputs": [],
   "source": [
    "with open('/content/drive/MyDrive/NLP/pheme-rnr-dataset/ferguson/non-rumours/500249081286250000/source-tweet/500249081286250000.json','r') as f :\n",
    "                 data = json.load(f)\n",
    "                 print(data['text'])"
   ]
  },
  {
   "cell_type": "code",
   "execution_count": 59,
   "metadata": {
    "id": "wedEWTihKcKO"
   },
   "outputs": [],
   "source": [
    "df['tweet_id'] = df['tweet_id'].astype(str)\n",
    "import csv\n",
    "df.to_csv('/content/drive/MyDrive/NLP/bertweet4.csv', index=False)"
   ]
  },
  {
   "cell_type": "code",
   "execution_count": 60,
   "metadata": {
    "colab": {
     "base_uri": "https://localhost:8080/",
     "height": 423
    },
    "id": "6bjuEUJuPf0x",
    "outputId": "5bbca72d-6b32-42d4-9df1-3e179d5a4b8e",
    "scrolled": true
   },
   "outputs": [
    {
     "data": {
      "text/html": [
       "\n",
       "\n",
       "  <div id=\"df-d48a58a3-aa33-4d06-97a0-b397791dbed6\">\n",
       "    <div class=\"colab-df-container\">\n",
       "      <div>\n",
       "<style scoped>\n",
       "    .dataframe tbody tr th:only-of-type {\n",
       "        vertical-align: middle;\n",
       "    }\n",
       "\n",
       "    .dataframe tbody tr th {\n",
       "        vertical-align: top;\n",
       "    }\n",
       "\n",
       "    .dataframe thead th {\n",
       "        text-align: right;\n",
       "    }\n",
       "</style>\n",
       "<table border=\"1\" class=\"dataframe\">\n",
       "  <thead>\n",
       "    <tr style=\"text-align: right;\">\n",
       "      <th></th>\n",
       "      <th>news</th>\n",
       "      <th>tweet_id</th>\n",
       "      <th>tweet_text</th>\n",
       "      <th>category</th>\n",
       "      <th>sentiment</th>\n",
       "    </tr>\n",
       "  </thead>\n",
       "  <tbody>\n",
       "    <tr>\n",
       "      <th>0</th>\n",
       "      <td>test</td>\n",
       "      <td>test</td>\n",
       "      <td>test</td>\n",
       "      <td>test</td>\n",
       "      <td>0</td>\n",
       "    </tr>\n",
       "    <tr>\n",
       "      <th>1</th>\n",
       "      <td>ferguson</td>\n",
       "      <td>500249081286250496</td>\n",
       "      <td>protesters march peacefully alongside state tr...</td>\n",
       "      <td>non-rumours</td>\n",
       "      <td>0</td>\n",
       "    </tr>\n",
       "    <tr>\n",
       "      <th>2</th>\n",
       "      <td>ferguson</td>\n",
       "      <td>499607500187250689</td>\n",
       "      <td>again, please don't go to *unless* you want yo...</td>\n",
       "      <td>non-rumours</td>\n",
       "      <td>-1</td>\n",
       "    </tr>\n",
       "    <tr>\n",
       "      <th>3</th>\n",
       "      <td>ferguson</td>\n",
       "      <td>498482619232055296</td>\n",
       "      <td>\"don't shoot! don't shoot!\"</td>\n",
       "      <td>non-rumours</td>\n",
       "      <td>-1</td>\n",
       "    </tr>\n",
       "    <tr>\n",
       "      <th>4</th>\n",
       "      <td>ferguson</td>\n",
       "      <td>500261600579043328</td>\n",
       "      <td>powerful, disturbing advice from the humans in...</td>\n",
       "      <td>non-rumours</td>\n",
       "      <td>0</td>\n",
       "    </tr>\n",
       "    <tr>\n",
       "      <th>...</th>\n",
       "      <td>...</td>\n",
       "      <td>...</td>\n",
       "      <td>...</td>\n",
       "      <td>...</td>\n",
       "      <td>...</td>\n",
       "    </tr>\n",
       "    <tr>\n",
       "      <th>5798</th>\n",
       "      <td>charliehebdo</td>\n",
       "      <td>552836844560609281</td>\n",
       "      <td>counter terrorism expert colonel mike dewar sa...</td>\n",
       "      <td>non-rumours</td>\n",
       "      <td>0</td>\n",
       "    </tr>\n",
       "    <tr>\n",
       "      <th>5799</th>\n",
       "      <td>charliehebdo</td>\n",
       "      <td>552845654637436928</td>\n",
       "      <td>get the cover on the front page of all our new...</td>\n",
       "      <td>non-rumours</td>\n",
       "      <td>1</td>\n",
       "    </tr>\n",
       "    <tr>\n",
       "      <th>5800</th>\n",
       "      <td>charliehebdo</td>\n",
       "      <td>553546878902861825</td>\n",
       "      <td>french police release pic of two suspects from...</td>\n",
       "      <td>non-rumours</td>\n",
       "      <td>0</td>\n",
       "    </tr>\n",
       "    <tr>\n",
       "      <th>5801</th>\n",
       "      <td>charliehebdo</td>\n",
       "      <td>552808785329549313</td>\n",
       "      <td>french media says cartoonist behind original p...</td>\n",
       "      <td>non-rumours</td>\n",
       "      <td>-1</td>\n",
       "    </tr>\n",
       "    <tr>\n",
       "      <th>5802</th>\n",
       "      <td>charliehebdo</td>\n",
       "      <td>552817061203050496</td>\n",
       "      <td>video posted online appears to show gunmen fle...</td>\n",
       "      <td>non-rumours</td>\n",
       "      <td>-1</td>\n",
       "    </tr>\n",
       "  </tbody>\n",
       "</table>\n",
       "<p>5803 rows × 5 columns</p>\n",
       "</div>\n",
       "      <button class=\"colab-df-convert\" onclick=\"convertToInteractive('df-d48a58a3-aa33-4d06-97a0-b397791dbed6')\"\n",
       "              title=\"Convert this dataframe to an interactive table.\"\n",
       "              style=\"display:none;\">\n",
       "\n",
       "  <svg xmlns=\"http://www.w3.org/2000/svg\" height=\"24px\"viewBox=\"0 0 24 24\"\n",
       "       width=\"24px\">\n",
       "    <path d=\"M0 0h24v24H0V0z\" fill=\"none\"/>\n",
       "    <path d=\"M18.56 5.44l.94 2.06.94-2.06 2.06-.94-2.06-.94-.94-2.06-.94 2.06-2.06.94zm-11 1L8.5 8.5l.94-2.06 2.06-.94-2.06-.94L8.5 2.5l-.94 2.06-2.06.94zm10 10l.94 2.06.94-2.06 2.06-.94-2.06-.94-.94-2.06-.94 2.06-2.06.94z\"/><path d=\"M17.41 7.96l-1.37-1.37c-.4-.4-.92-.59-1.43-.59-.52 0-1.04.2-1.43.59L10.3 9.45l-7.72 7.72c-.78.78-.78 2.05 0 2.83L4 21.41c.39.39.9.59 1.41.59.51 0 1.02-.2 1.41-.59l7.78-7.78 2.81-2.81c.8-.78.8-2.07 0-2.86zM5.41 20L4 18.59l7.72-7.72 1.47 1.35L5.41 20z\"/>\n",
       "  </svg>\n",
       "      </button>\n",
       "\n",
       "\n",
       "\n",
       "    <div id=\"df-60fd8ff5-1cea-4ecb-9171-3e82a2579509\">\n",
       "      <button class=\"colab-df-quickchart\" onclick=\"quickchart('df-60fd8ff5-1cea-4ecb-9171-3e82a2579509')\"\n",
       "              title=\"Suggest charts.\"\n",
       "              style=\"display:none;\">\n",
       "\n",
       "<svg xmlns=\"http://www.w3.org/2000/svg\" height=\"24px\"viewBox=\"0 0 24 24\"\n",
       "     width=\"24px\">\n",
       "    <g>\n",
       "        <path d=\"M19 3H5c-1.1 0-2 .9-2 2v14c0 1.1.9 2 2 2h14c1.1 0 2-.9 2-2V5c0-1.1-.9-2-2-2zM9 17H7v-7h2v7zm4 0h-2V7h2v10zm4 0h-2v-4h2v4z\"/>\n",
       "    </g>\n",
       "</svg>\n",
       "      </button>\n",
       "    </div>\n",
       "\n",
       "<style>\n",
       "  .colab-df-quickchart {\n",
       "    background-color: #E8F0FE;\n",
       "    border: none;\n",
       "    border-radius: 50%;\n",
       "    cursor: pointer;\n",
       "    display: none;\n",
       "    fill: #1967D2;\n",
       "    height: 32px;\n",
       "    padding: 0 0 0 0;\n",
       "    width: 32px;\n",
       "  }\n",
       "\n",
       "  .colab-df-quickchart:hover {\n",
       "    background-color: #E2EBFA;\n",
       "    box-shadow: 0px 1px 2px rgba(60, 64, 67, 0.3), 0px 1px 3px 1px rgba(60, 64, 67, 0.15);\n",
       "    fill: #174EA6;\n",
       "  }\n",
       "\n",
       "  [theme=dark] .colab-df-quickchart {\n",
       "    background-color: #3B4455;\n",
       "    fill: #D2E3FC;\n",
       "  }\n",
       "\n",
       "  [theme=dark] .colab-df-quickchart:hover {\n",
       "    background-color: #434B5C;\n",
       "    box-shadow: 0px 1px 3px 1px rgba(0, 0, 0, 0.15);\n",
       "    filter: drop-shadow(0px 1px 2px rgba(0, 0, 0, 0.3));\n",
       "    fill: #FFFFFF;\n",
       "  }\n",
       "</style>\n",
       "\n",
       "    <script>\n",
       "      async function quickchart(key) {\n",
       "        const containerElement = document.querySelector('#' + key);\n",
       "        const charts = await google.colab.kernel.invokeFunction(\n",
       "            'suggestCharts', [key], {});\n",
       "      }\n",
       "    </script>\n",
       "\n",
       "      <script>\n",
       "\n",
       "function displayQuickchartButton(domScope) {\n",
       "  let quickchartButtonEl =\n",
       "    domScope.querySelector('#df-60fd8ff5-1cea-4ecb-9171-3e82a2579509 button.colab-df-quickchart');\n",
       "  quickchartButtonEl.style.display =\n",
       "    google.colab.kernel.accessAllowed ? 'block' : 'none';\n",
       "}\n",
       "\n",
       "        displayQuickchartButton(document);\n",
       "      </script>\n",
       "      <style>\n",
       "    .colab-df-container {\n",
       "      display:flex;\n",
       "      flex-wrap:wrap;\n",
       "      gap: 12px;\n",
       "    }\n",
       "\n",
       "    .colab-df-convert {\n",
       "      background-color: #E8F0FE;\n",
       "      border: none;\n",
       "      border-radius: 50%;\n",
       "      cursor: pointer;\n",
       "      display: none;\n",
       "      fill: #1967D2;\n",
       "      height: 32px;\n",
       "      padding: 0 0 0 0;\n",
       "      width: 32px;\n",
       "    }\n",
       "\n",
       "    .colab-df-convert:hover {\n",
       "      background-color: #E2EBFA;\n",
       "      box-shadow: 0px 1px 2px rgba(60, 64, 67, 0.3), 0px 1px 3px 1px rgba(60, 64, 67, 0.15);\n",
       "      fill: #174EA6;\n",
       "    }\n",
       "\n",
       "    [theme=dark] .colab-df-convert {\n",
       "      background-color: #3B4455;\n",
       "      fill: #D2E3FC;\n",
       "    }\n",
       "\n",
       "    [theme=dark] .colab-df-convert:hover {\n",
       "      background-color: #434B5C;\n",
       "      box-shadow: 0px 1px 3px 1px rgba(0, 0, 0, 0.15);\n",
       "      filter: drop-shadow(0px 1px 2px rgba(0, 0, 0, 0.3));\n",
       "      fill: #FFFFFF;\n",
       "    }\n",
       "  </style>\n",
       "\n",
       "      <script>\n",
       "        const buttonEl =\n",
       "          document.querySelector('#df-d48a58a3-aa33-4d06-97a0-b397791dbed6 button.colab-df-convert');\n",
       "        buttonEl.style.display =\n",
       "          google.colab.kernel.accessAllowed ? 'block' : 'none';\n",
       "\n",
       "        async function convertToInteractive(key) {\n",
       "          const element = document.querySelector('#df-d48a58a3-aa33-4d06-97a0-b397791dbed6');\n",
       "          const dataTable =\n",
       "            await google.colab.kernel.invokeFunction('convertToInteractive',\n",
       "                                                     [key], {});\n",
       "          if (!dataTable) return;\n",
       "\n",
       "          const docLinkHtml = 'Like what you see? Visit the ' +\n",
       "            '<a target=\"_blank\" href=https://colab.research.google.com/notebooks/data_table.ipynb>data table notebook</a>'\n",
       "            + ' to learn more about interactive tables.';\n",
       "          element.innerHTML = '';\n",
       "          dataTable['output_type'] = 'display_data';\n",
       "          await google.colab.output.renderOutput(dataTable, element);\n",
       "          const docLink = document.createElement('div');\n",
       "          docLink.innerHTML = docLinkHtml;\n",
       "          element.appendChild(docLink);\n",
       "        }\n",
       "      </script>\n",
       "    </div>\n",
       "  </div>\n"
      ],
      "text/plain": [
       "              news            tweet_id  \\\n",
       "0             test                test   \n",
       "1         ferguson  500249081286250496   \n",
       "2         ferguson  499607500187250689   \n",
       "3         ferguson  498482619232055296   \n",
       "4         ferguson  500261600579043328   \n",
       "...            ...                 ...   \n",
       "5798  charliehebdo  552836844560609281   \n",
       "5799  charliehebdo  552845654637436928   \n",
       "5800  charliehebdo  553546878902861825   \n",
       "5801  charliehebdo  552808785329549313   \n",
       "5802  charliehebdo  552817061203050496   \n",
       "\n",
       "                                             tweet_text     category  \\\n",
       "0                                                  test         test   \n",
       "1     protesters march peacefully alongside state tr...  non-rumours   \n",
       "2     again, please don't go to *unless* you want yo...  non-rumours   \n",
       "3                           \"don't shoot! don't shoot!\"  non-rumours   \n",
       "4     powerful, disturbing advice from the humans in...  non-rumours   \n",
       "...                                                 ...          ...   \n",
       "5798  counter terrorism expert colonel mike dewar sa...  non-rumours   \n",
       "5799  get the cover on the front page of all our new...  non-rumours   \n",
       "5800  french police release pic of two suspects from...  non-rumours   \n",
       "5801  french media says cartoonist behind original p...  non-rumours   \n",
       "5802  video posted online appears to show gunmen fle...  non-rumours   \n",
       "\n",
       "      sentiment  \n",
       "0             0  \n",
       "1             0  \n",
       "2            -1  \n",
       "3            -1  \n",
       "4             0  \n",
       "...         ...  \n",
       "5798          0  \n",
       "5799          1  \n",
       "5800          0  \n",
       "5801         -1  \n",
       "5802         -1  \n",
       "\n",
       "[5803 rows x 5 columns]"
      ]
     },
     "execution_count": 60,
     "metadata": {},
     "output_type": "execute_result"
    }
   ],
   "source": [
    "\n"
   ]
  }
 ],
 "metadata": {
  "colab": {
   "provenance": []
  },
  "kernelspec": {
   "display_name": "Python 3 (ipykernel)",
   "language": "python",
   "name": "python3"
  },
  "language_info": {
   "codemirror_mode": {
    "name": "ipython",
    "version": 3
   },
   "file_extension": ".py",
   "mimetype": "text/x-python",
   "name": "python",
   "nbconvert_exporter": "python",
   "pygments_lexer": "ipython3",
   "version": "3.10.12"
  }
 },
 "nbformat": 4,
 "nbformat_minor": 4
}
