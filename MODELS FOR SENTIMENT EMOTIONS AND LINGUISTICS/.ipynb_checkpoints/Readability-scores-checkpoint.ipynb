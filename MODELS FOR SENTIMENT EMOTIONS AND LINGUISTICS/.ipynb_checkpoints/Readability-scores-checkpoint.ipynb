{
 "cells": [
  {
   "cell_type": "code",
   "execution_count": null,
   "metadata": {
    "colab": {
     "base_uri": "https://localhost:8080/"
    },
    "id": "NNjSXHOVQA2l",
    "outputId": "c6c7b9d1-287b-4fcc-b830-b0f87173e92c"
   },
   "outputs": [],
   "source": [
    "import nltk\n",
    "nltk.download('punkt')"
   ]
  },
  {
   "cell_type": "code",
   "execution_count": null,
   "metadata": {
    "colab": {
     "base_uri": "https://localhost:8080/"
    },
    "id": "gozV5rj_PsJE",
    "outputId": "8d5f75d4-95d5-4726-b4da-0ade18e3e909"
   },
   "outputs": [],
   "source": [
    "!pip install py-readability-metrics\n",
    "!python -m nltk.downloader punkt"
   ]
  },
  {
   "cell_type": "code",
   "execution_count": null,
   "metadata": {
    "colab": {
     "base_uri": "https://localhost:8080/"
    },
    "id": "vA-rp0tgkFwK",
    "outputId": "cacc92fd-b631-43a5-a082-1fe48463ffb4"
   },
   "outputs": [],
   "source": [
    "import pandas as pd\n",
    "import re\n",
    "import string\n",
    "\n",
    "def calculate_coleman_liau(text):\n",
    "    text = text.translate(str.maketrans(\"\", \"\", string.punctuation)).lower()\n",
    "    words = re.findall(r'\\b\\w+\\b', text)\n",
    "    words = words[:200]\n",
    "    total_words = len(words)\n",
    "    total_sentences = text.count('.') + text.count('!') + text.count('?')\n",
    "    total_letters = sum(len(word) for word in words)\n",
    "\n",
    "    # Coleman-Liau Index formula\n",
    "    readability_score = 0.0588 * (total_letters / total_words * 100) - 0.296 * (total_sentences / total_words * 100) - 15.8\n",
    "    return readability_score\n",
    "\n",
    "\n",
    "def syllable_count(word):\n",
    "    count = 0\n",
    "    vowels = \"aeiouy\"\n",
    "    if word[0] in vowels:\n",
    "        count += 1\n",
    "    for i in range(1, len(word)):\n",
    "        if word[i] in vowels and word[i - 1] not in vowels:\n",
    "            count += 1\n",
    "    if count == 0:\n",
    "        count += 1\n",
    "    return count\n",
    "\n",
    "\n",
    "df = pd.read_csv('SNOPES_500_FAKE_CORRUPTED_Zeroshot_Prompt2.csv')\n",
    "\n",
    "df['Column1_coleman_Score'] = df['original'].apply(calculate_coleman_liau)\n",
    "\n",
    "\n",
    "average_score_column1 = df['Column1_coleman_Score'].mean()\n",
    "\n",
    "\n",
    "print(f\"Average coleman Score for Column1: {average_score_column1:.2f}\")\n",
    "\n",
    "\n",
    "df.to_csv('new_dataset.csv', index=False)\n"
   ]
  },
  {
   "cell_type": "code",
   "execution_count": null,
   "metadata": {
    "colab": {
     "base_uri": "https://localhost:8080/"
    },
    "id": "O5aV3sg2kFxu",
    "outputId": "9a84ff46-3d2c-47a1-a288-fe36990f92d7"
   },
   "outputs": [],
   "source": [
    "import pandas as pd\n",
    "import re\n",
    "import string\n",
    "\n",
    "def calculate_coleman_liau(text):\n",
    "    text = text.translate(str.maketrans(\"\", \"\", string.punctuation)).lower()\n",
    "    words = re.findall(r'\\b\\w+\\b', text)\n",
    "    words = words[:200]\n",
    "    total_words = len(words)\n",
    "    total_sentences = text.count('.') + text.count('!') + text.count('?')\n",
    "    total_letters = sum(len(word) for word in words)\n",
    "\n",
    "    # Coleman-Liau Index formula\n",
    "    readability_score = 0.0588 * (total_letters / total_words * 100) - 0.296 * (total_sentences / total_words * 100) - 15.8\n",
    "    return readability_score\n",
    "\n",
    "\n",
    "def syllable_count(word):\n",
    "    count = 0\n",
    "    vowels = \"aeiouy\"\n",
    "    if word[0] in vowels:\n",
    "        count += 1\n",
    "    for i in range(1, len(word)):\n",
    "        if word[i] in vowels and word[i - 1] not in vowels:\n",
    "            count += 1\n",
    "    if count == 0:\n",
    "        count += 1\n",
    "    return count\n",
    "\n",
    "\n",
    "df = pd.read_csv('SNOPES_500_FAKE_CORRUPTED_Zeroshot_Prompt2.csv')\n",
    "\n",
    "df['Column2_coleman_Score'] = df['corrupted'].apply(calculate_coleman_liau)\n",
    "\n",
    "\n",
    "average_score_column2 = df['Column2_coleman_Score'].mean()\n",
    "\n",
    "\n",
    "print(f\"Average coleman Score for Column2: {average_score_column2:.2f}\")\n",
    "\n",
    "\n",
    "df.to_csv('new_dataset.csv', index=False)"
   ]
  },
  {
   "cell_type": "code",
   "execution_count": null,
   "metadata": {
    "colab": {
     "base_uri": "https://localhost:8080/"
    },
    "id": "T3cL7waHaruN",
    "outputId": "4f222fc5-d45c-4db6-e766-e4346fb03a08"
   },
   "outputs": [],
   "source": [
    "import pandas as pd\n",
    "import re\n",
    "import string\n",
    "\n",
    "def calculate_flesch_kincaid(text):\n",
    "    text = text.translate(str.maketrans(\"\", \"\", string.punctuation)).lower()\n",
    "    words = re.findall(r'\\b\\w+\\b', text)\n",
    "    words = words[:200]\n",
    "    total_words = len(words)\n",
    "    total_sentences = text.count('.') + text.count('!') + text.count('?')\n",
    "    total_syllables = sum([syllable_count(word) for word in words])\n",
    "\n",
    "\n",
    "    readability_score = 0.39 * (total_words / 1) + 11.8 * (total_syllables / total_words) - 15.59\n",
    "    return readability_score\n",
    "\n",
    "def syllable_count(word):\n",
    "    count = 0\n",
    "    vowels = \"aeiouy\"\n",
    "    if word[0] in vowels:\n",
    "        count += 1\n",
    "    for i in range(1, len(word)):\n",
    "        if word[i] in vowels and word[i - 1] not in vowels:\n",
    "            count += 1\n",
    "    if count == 0:\n",
    "        count += 1\n",
    "    return count\n",
    "\n",
    "\n",
    "df = pd.read_csv('SNOPES_500_FAKE_CORRUPTED_Zeroshot_Prompt2.csv')\n",
    "\n",
    "\n",
    "df['Column1_Flesch_Score'] = df['original'].apply(calculate_flesch_kincaid)\n",
    "\n",
    "average_score_column1 = df['Column1_Flesch_Score'].mean()\n",
    "\n",
    "print(f\"Average Flesch Score for Column1: {average_score_column1:.2f}\")\n",
    "\n",
    "\n",
    "df.to_csv('new_dataset.csv', index=False)\n"
   ]
  },
  {
   "cell_type": "code",
   "execution_count": null,
   "metadata": {
    "colab": {
     "base_uri": "https://localhost:8080/"
    },
    "id": "pJgcJdzsgqa3",
    "outputId": "47dec127-fb43-46ea-b173-0adafae22d33"
   },
   "outputs": [],
   "source": [
    "import pandas as pd\n",
    "import re\n",
    "import string\n",
    "\n",
    "def calculate_flesch_kincaid(text):\n",
    "    text = text.translate(str.maketrans(\"\", \"\", string.punctuation)).lower()\n",
    "    words = re.findall(r'\\b\\w+\\b', text)\n",
    "    words = words[:200]\n",
    "    total_words = len(words)\n",
    "    total_sentences = text.count('.') + text.count('!') + text.count('?')\n",
    "    total_syllables = sum([syllable_count(word) for word in words])\n",
    "\n",
    "\n",
    "    readability_score = 0.39 * (total_words / 1) + 11.8 * (total_syllables / total_words) - 15.59\n",
    "    return readability_score\n",
    "\n",
    "def syllable_count(word):\n",
    "    count = 0\n",
    "    vowels = \"aeiouy\"\n",
    "    if word[0] in vowels:\n",
    "        count += 1\n",
    "    for i in range(1, len(word)):\n",
    "        if word[i] in vowels and word[i - 1] not in vowels:\n",
    "            count += 1\n",
    "    if count == 0:\n",
    "        count += 1\n",
    "    return count\n",
    "\n",
    "\n",
    "df = pd.read_csv('SNOPES_500_FAKE_CORRUPTED_Zeroshot_Prompt2.csv')\n",
    "\n",
    "df['Column2_Flesch_Score'] = df['corrupted'].apply(calculate_flesch_kincaid)\n",
    "\n",
    "\n",
    "average_score_column2 = df['Column2_Flesch_Score'].mean()\n",
    "\n",
    "\n",
    "print(f\"Average Flesch Score for Column2: {average_score_column2:.2f}\")\n",
    "\n",
    "\n",
    "df.to_csv('new_dataset.csv', index=False)\n"
   ]
  }
 ],
 "metadata": {
  "colab": {
   "provenance": []
  },
  "kernelspec": {
   "display_name": "Python 3 (ipykernel)",
   "language": "python",
   "name": "python3"
  },
  "language_info": {
   "codemirror_mode": {
    "name": "ipython",
    "version": 3
   },
   "file_extension": ".py",
   "mimetype": "text/x-python",
   "name": "python",
   "nbconvert_exporter": "python",
   "pygments_lexer": "ipython3",
   "version": "3.10.12"
  }
 },
 "nbformat": 4,
 "nbformat_minor": 4
}
