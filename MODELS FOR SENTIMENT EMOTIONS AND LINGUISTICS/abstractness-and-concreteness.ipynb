{
 "cells": [
  {
   "cell_type": "code",
   "execution_count": null,
   "metadata": {
    "colab": {
     "base_uri": "https://localhost:8080/"
    },
    "id": "6OHGm8dyQWcC",
    "outputId": "17becc9a-d572-4411-e317-8129a321f58d"
   },
   "outputs": [],
   "source": [
    "#ORIGINAL CODE\n",
    "import spacy\n",
    "import pandas as pd\n",
    "\n",
    "nlp = spacy.load(\"en_core_web_sm\")\n",
    "\n",
    "def calculate_abstractness_concreteness(text):\n",
    "    doc = nlp(text)\n",
    "\n",
    "    abstract_words = sum(1 for token in doc if token.pos_ in [ 'VERB', 'ADJ', 'ADV'])\n",
    "    total_words = len(doc)\n",
    "    abstractness = abstract_words / total_words if total_words > 0 else 0.0\n",
    "    concreteness = 1.0 - abstractness\n",
    "\n",
    "    return abstractness, concreteness\n",
    "\n",
    "data = pd.read_csv('SNOPES_500_FAKE_CORRUPTED_Zeroshot_Prompt2.csv')\n",
    "\n",
    "original_column = 'original'\n",
    "corrupted_column = 'corrupted'\n",
    "\n",
    "data[original_column] = data[original_column].fillna('')\n",
    "data[corrupted_column] = data[corrupted_column].fillna('')\n",
    "\n",
    "data['original_abstractness'], data['original_concreteness'] = zip(*data[original_column].map(calculate_abstractness_concreteness))\n",
    "data['corrupted_abstractness'], data['corrupted_concreteness'] = zip(*data[corrupted_column].map(calculate_abstractness_concreteness))\n",
    "\n",
    "\n",
    "avg_original_abstractness = data[['original_abstractness', 'corrupted_abstractness']].mean()\n",
    "avg_original_concreteness = data[['original_concreteness', 'corrupted_concreteness']].mean()\n",
    "\n",
    "print(\"Average Original Abstractness:\", avg_original_abstractness['original_abstractness'])\n",
    "print(\"Average Corrupted Abstractness:\", avg_original_abstractness['corrupted_abstractness'])\n",
    "print(\"Average Original Concreteness:\", avg_original_concreteness['original_concreteness'])\n",
    "print(\"Average Corrupted Concreteness:\", avg_original_concreteness['corrupted_concreteness'])\n",
    "\n",
    "data.to_csv('abstractness_concreteness_FAKE_cot.csv', index=False)\n"
   ]
  },
  {
   "cell_type": "code",
   "execution_count": null,
   "metadata": {
    "colab": {
     "base_uri": "https://localhost:8080/"
    },
    "id": "u3_C0tbF_ZsU",
    "outputId": "83028bee-eca1-4ecf-a5c1-0e71f0cdb611"
   },
   "outputs": [],
   "source": [
    "#NORMALIZED CODE\n",
    "import spacy\n",
    "import pandas as pd\n",
    "\n",
    "nlp = spacy.load(\"en_core_web_sm\")\n",
    "\n",
    "def calculate_abstractness_concreteness(text):\n",
    "    doc = nlp(text)\n",
    "\n",
    "\n",
    "    doc = doc[:100]\n",
    "\n",
    "    abstract_words = sum(1 for token in doc if token.pos_ in ['VERB', 'ADJ', 'ADV'])\n",
    "    total_words = len(doc)\n",
    "    abstractness = abstract_words / total_words if total_words > 0 else 0.0\n",
    "    concreteness = 1.0 - abstractness\n",
    "\n",
    "    return abstractness, concreteness\n",
    "\n",
    "data = pd.read_csv('SNOPES_500_FAKE_CORRUPTED_Zeroshot_Prompt2.csv')\n",
    "\n",
    "original_column = 'original'\n",
    "corrupted_column = 'corrupted'\n",
    "\n",
    "data[original_column] = data[original_column].fillna('')\n",
    "data[corrupted_column] = data[corrupted_column].fillna('')\n",
    "\n",
    "data['original_abstractness'], data['original_concreteness'] = zip(*data[original_column].map(calculate_abstractness_concreteness))\n",
    "data['corrupted_abstractness'], data['corrupted_concreteness'] = zip(*data[corrupted_column].map(calculate_abstractness_concreteness))\n",
    "\n",
    "\n",
    "avg_original_abstractness = data[['original_abstractness', 'corrupted_abstractness']].mean()\n",
    "avg_original_concreteness = data[['original_concreteness', 'corrupted_concreteness']].mean()\n",
    "\n",
    "print(\"Average Original Abstractness:\", avg_original_abstractness['original_abstractness'])\n",
    "print(\"Average Corrupted Abstractness:\", avg_original_abstractness['corrupted_abstractness'])\n",
    "print(\"Average Original Concreteness:\", avg_original_concreteness['original_concreteness'])\n",
    "print(\"Average Corrupted Concreteness:\", avg_original_concreteness['corrupted_concreteness'])\n",
    "\n",
    "data.to_csv('abstractness_concreteness_FAKE_cot.csv', index=False)\n"
   ]
  }
 ],
 "metadata": {
  "accelerator": "GPU",
  "colab": {
   "gpuType": "T4",
   "provenance": []
  },
  "kernelspec": {
   "display_name": "Python 3 (ipykernel)",
   "language": "python",
   "name": "python3"
  },
  "language_info": {
   "codemirror_mode": {
    "name": "ipython",
    "version": 3
   },
   "file_extension": ".py",
   "mimetype": "text/x-python",
   "name": "python",
   "nbconvert_exporter": "python",
   "pygments_lexer": "ipython3",
   "version": "3.10.12"
  }
 },
 "nbformat": 4,
 "nbformat_minor": 4
}
