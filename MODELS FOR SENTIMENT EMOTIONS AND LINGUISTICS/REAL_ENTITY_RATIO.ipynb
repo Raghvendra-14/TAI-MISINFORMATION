{
 "cells": [
  {
   "cell_type": "code",
   "execution_count": null,
   "metadata": {
    "colab": {
     "base_uri": "https://localhost:8080/"
    },
    "id": "kKwng0xSn-GK",
    "outputId": "1fff8c4c-e085-4368-a14c-24181e9eafa1"
   },
   "outputs": [],
   "source": [
    "!pip install spacy\n",
    "!python -m spacy download en_core_web_sm"
   ]
  },
  {
   "cell_type": "code",
   "execution_count": null,
   "metadata": {
    "colab": {
     "base_uri": "https://localhost:8080/"
    },
    "id": "HFmUFd-Fo4fj",
    "outputId": "b6936eea-b899-47eb-fcf8-fa14503a8280"
   },
   "outputs": [],
   "source": [
    "import spacy\n",
    "import pandas as pd\n",
    "\n",
    "def calculate_real_entities_ratio(text, nlp_model):\n",
    "    doc = nlp_model(text)\n",
    "\n",
    "    real_entity_types = ['PERSON', 'NORP', 'FAC', 'ORG', 'GPE', 'LOC', 'PRODUCT', 'EVENT', 'WORK_OF_ART', 'LAW', 'LANGUAGE', 'DATE', 'TIME', 'PERCENT', 'MONEY', 'QUANTITY', 'ORDINAL', 'CARDINAL']\n",
    "\n",
    "    real_entity_count = sum(1 for ent in doc.ents if ent.label_ in real_entity_types)\n",
    "    total_words = len(doc)\n",
    "    ratio = real_entity_count / total_words\n",
    "\n",
    "    return ratio\n",
    "\n",
    "def calculate_and_add_ratio_columns(dataframe):\n",
    "    nlp = spacy.load(\"en_core_web_sm\")\n",
    "\n",
    "    # Calculate and add ratio columns for 'original'\n",
    "    dataframe['original_ratio'] = dataframe['original'].apply(lambda x: calculate_real_entities_ratio(x, nlp))\n",
    "\n",
    "    # Calculate and add ratio columns for 'corrupted'\n",
    "    dataframe['corrupted_ratio'] = dataframe['corrupted'].apply(lambda x: calculate_real_entities_ratio(x, nlp))\n",
    "\n",
    "    return dataframe\n",
    "\n",
    "\n",
    "df = pd.read_csv(\"SNOPES_500_TRUE_CORRUPTED_Zeroshot_Prompt2.csv\")\n",
    "\n",
    "\n",
    "df_with_ratios = calculate_and_add_ratio_columns(df)\n",
    "\n",
    "\n",
    "df_with_ratios.to_csv(\"NER_TRUE_CORRUPT_ZEROSHOT_PROMPT2.csv\", index=False)\n",
    "\n",
    "\n",
    "print(df_with_ratios)\n"
   ]
  }
 ],
 "metadata": {
  "colab": {
   "provenance": []
  },
  "kernelspec": {
   "display_name": "Python 3 (ipykernel)",
   "language": "python",
   "name": "python3"
  },
  "language_info": {
   "codemirror_mode": {
    "name": "ipython",
    "version": 3
   },
   "file_extension": ".py",
   "mimetype": "text/x-python",
   "name": "python",
   "nbconvert_exporter": "python",
   "pygments_lexer": "ipython3",
   "version": "3.10.12"
  }
 },
 "nbformat": 4,
 "nbformat_minor": 4
}
